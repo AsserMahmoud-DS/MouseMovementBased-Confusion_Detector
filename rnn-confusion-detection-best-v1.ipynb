{
 "cells": [
  {
   "cell_type": "code",
   "execution_count": 1,
   "id": "c739f8cc",
   "metadata": {
    "execution": {
     "iopub.execute_input": "2025-04-23T00:37:11.575024Z",
     "iopub.status.busy": "2025-04-23T00:37:11.574753Z",
     "iopub.status.idle": "2025-04-23T00:37:11.580979Z",
     "shell.execute_reply": "2025-04-23T00:37:11.580456Z"
    },
    "papermill": {
     "duration": 0.015471,
     "end_time": "2025-04-23T00:37:11.582212",
     "exception": false,
     "start_time": "2025-04-23T00:37:11.566741",
     "status": "completed"
    },
    "tags": []
   },
   "outputs": [],
   "source": [
    "import warnings\n",
    "warnings.filterwarnings('ignore')"
   ]
  },
  {
   "cell_type": "code",
   "execution_count": 2,
   "id": "16999717",
   "metadata": {
    "_cell_guid": "b1076dfc-b9ad-4769-8c92-a6c4dae69d19",
    "_uuid": "8f2839f25d086af736a60e9eeb907d3b93b6e0e5",
    "execution": {
     "iopub.execute_input": "2025-04-23T00:37:11.595133Z",
     "iopub.status.busy": "2025-04-23T00:37:11.594929Z",
     "iopub.status.idle": "2025-04-23T00:37:25.360163Z",
     "shell.execute_reply": "2025-04-23T00:37:25.359521Z"
    },
    "papermill": {
     "duration": 13.773104,
     "end_time": "2025-04-23T00:37:25.361534",
     "exception": false,
     "start_time": "2025-04-23T00:37:11.588430",
     "status": "completed"
    },
    "tags": []
   },
   "outputs": [
    {
     "name": "stderr",
     "output_type": "stream",
     "text": [
      "2025-04-23 00:37:14.362997: E external/local_xla/xla/stream_executor/cuda/cuda_fft.cc:477] Unable to register cuFFT factory: Attempting to register factory for plugin cuFFT when one has already been registered\n",
      "WARNING: All log messages before absl::InitializeLog() is called are written to STDERR\n",
      "E0000 00:00:1745368634.536896      19 cuda_dnn.cc:8310] Unable to register cuDNN factory: Attempting to register factory for plugin cuDNN when one has already been registered\n",
      "E0000 00:00:1745368634.589385      19 cuda_blas.cc:1418] Unable to register cuBLAS factory: Attempting to register factory for plugin cuBLAS when one has already been registered\n"
     ]
    }
   ],
   "source": [
    "import pandas as pd\n",
    "import numpy as np\n",
    "import random\n",
    "import tensorflow as tf"
   ]
  },
  {
   "cell_type": "code",
   "execution_count": 3,
   "id": "758683ca",
   "metadata": {
    "execution": {
     "iopub.execute_input": "2025-04-23T00:37:25.375191Z",
     "iopub.status.busy": "2025-04-23T00:37:25.374503Z",
     "iopub.status.idle": "2025-04-23T00:37:25.378499Z",
     "shell.execute_reply": "2025-04-23T00:37:25.377826Z"
    },
    "papermill": {
     "duration": 0.011796,
     "end_time": "2025-04-23T00:37:25.379669",
     "exception": false,
     "start_time": "2025-04-23T00:37:25.367873",
     "status": "completed"
    },
    "tags": []
   },
   "outputs": [],
   "source": [
    "# random seeds\n",
    "np.random.seed(42)\n",
    "tf.random.set_seed(42)"
   ]
  },
  {
   "cell_type": "code",
   "execution_count": 4,
   "id": "81562ef7",
   "metadata": {
    "execution": {
     "iopub.execute_input": "2025-04-23T00:37:25.392079Z",
     "iopub.status.busy": "2025-04-23T00:37:25.391856Z",
     "iopub.status.idle": "2025-04-23T00:37:25.414518Z",
     "shell.execute_reply": "2025-04-23T00:37:25.413794Z"
    },
    "papermill": {
     "duration": 0.030078,
     "end_time": "2025-04-23T00:37:25.415664",
     "exception": false,
     "start_time": "2025-04-23T00:37:25.385586",
     "status": "completed"
    },
    "tags": []
   },
   "outputs": [],
   "source": [
    "df = pd.read_csv('/kaggle/input/mouse-data/user_behavior_data (8).csv')"
   ]
  },
  {
   "cell_type": "code",
   "execution_count": 5,
   "id": "684da0cc",
   "metadata": {
    "execution": {
     "iopub.execute_input": "2025-04-23T00:37:25.428259Z",
     "iopub.status.busy": "2025-04-23T00:37:25.428037Z",
     "iopub.status.idle": "2025-04-23T00:37:25.446944Z",
     "shell.execute_reply": "2025-04-23T00:37:25.446327Z"
    },
    "papermill": {
     "duration": 0.026474,
     "end_time": "2025-04-23T00:37:25.448028",
     "exception": false,
     "start_time": "2025-04-23T00:37:25.421554",
     "status": "completed"
    },
    "tags": []
   },
   "outputs": [
    {
     "data": {
      "text/html": [
       "<div>\n",
       "<style scoped>\n",
       "    .dataframe tbody tr th:only-of-type {\n",
       "        vertical-align: middle;\n",
       "    }\n",
       "\n",
       "    .dataframe tbody tr th {\n",
       "        vertical-align: top;\n",
       "    }\n",
       "\n",
       "    .dataframe thead th {\n",
       "        text-align: right;\n",
       "    }\n",
       "</style>\n",
       "<table border=\"1\" class=\"dataframe\">\n",
       "  <thead>\n",
       "    <tr style=\"text-align: right;\">\n",
       "      <th></th>\n",
       "      <th>timestamp</th>\n",
       "      <th>x</th>\n",
       "      <th>y</th>\n",
       "      <th>isClick</th>\n",
       "      <th>isConfused</th>\n",
       "    </tr>\n",
       "  </thead>\n",
       "  <tbody>\n",
       "    <tr>\n",
       "      <th>0</th>\n",
       "      <td>50</td>\n",
       "      <td>0</td>\n",
       "      <td>0</td>\n",
       "      <td>0</td>\n",
       "      <td>0</td>\n",
       "    </tr>\n",
       "    <tr>\n",
       "      <th>1</th>\n",
       "      <td>100</td>\n",
       "      <td>0</td>\n",
       "      <td>0</td>\n",
       "      <td>0</td>\n",
       "      <td>0</td>\n",
       "    </tr>\n",
       "    <tr>\n",
       "      <th>2</th>\n",
       "      <td>150</td>\n",
       "      <td>0</td>\n",
       "      <td>0</td>\n",
       "      <td>0</td>\n",
       "      <td>0</td>\n",
       "    </tr>\n",
       "    <tr>\n",
       "      <th>3</th>\n",
       "      <td>200</td>\n",
       "      <td>0</td>\n",
       "      <td>0</td>\n",
       "      <td>0</td>\n",
       "      <td>0</td>\n",
       "    </tr>\n",
       "    <tr>\n",
       "      <th>4</th>\n",
       "      <td>250</td>\n",
       "      <td>0</td>\n",
       "      <td>0</td>\n",
       "      <td>0</td>\n",
       "      <td>0</td>\n",
       "    </tr>\n",
       "  </tbody>\n",
       "</table>\n",
       "</div>"
      ],
      "text/plain": [
       "   timestamp  x  y  isClick  isConfused\n",
       "0         50  0  0        0           0\n",
       "1        100  0  0        0           0\n",
       "2        150  0  0        0           0\n",
       "3        200  0  0        0           0\n",
       "4        250  0  0        0           0"
      ]
     },
     "execution_count": 5,
     "metadata": {},
     "output_type": "execute_result"
    }
   ],
   "source": [
    "df.head()"
   ]
  },
  {
   "cell_type": "markdown",
   "id": "dee2f51d",
   "metadata": {
    "papermill": {
     "duration": 0.005714,
     "end_time": "2025-04-23T00:37:25.460155",
     "exception": false,
     "start_time": "2025-04-23T00:37:25.454441",
     "status": "completed"
    },
    "tags": []
   },
   "source": [
    "# Feature engineering"
   ]
  },
  {
   "cell_type": "code",
   "execution_count": 6,
   "id": "fe15aee0",
   "metadata": {
    "execution": {
     "iopub.execute_input": "2025-04-23T00:37:25.473014Z",
     "iopub.status.busy": "2025-04-23T00:37:25.472778Z",
     "iopub.status.idle": "2025-04-23T00:37:25.477373Z",
     "shell.execute_reply": "2025-04-23T00:37:25.476863Z"
    },
    "papermill": {
     "duration": 0.012292,
     "end_time": "2025-04-23T00:37:25.478390",
     "exception": false,
     "start_time": "2025-04-23T00:37:25.466098",
     "status": "completed"
    },
    "tags": []
   },
   "outputs": [],
   "source": [
    "def calculate_angle(x1, y1, x2, y2, x3, y3):\n",
    "    v1 = [x2 - x1, y2 - y1]\n",
    "    v2 = [x3 - x2, y3 - y2]\n",
    "    dot = v1[0]*v2[0] + v1[1]*v2[1]\n",
    "    mag1 = np.sqrt(v1[0]**2 + v1[1]**2)\n",
    "    mag2 = np.sqrt(v2[0]**2 + v2[1]**2)\n",
    "    \n",
    "    if mag1 == 0 or mag2 == 0:\n",
    "        return 0.0\n",
    "\n",
    "    cos_theta = np.clip(dot / (mag1 * mag2), -1.0, 1.0)\n",
    "    angle = np.degrees(np.arccos(cos_theta))\n",
    "    return angle"
   ]
  },
  {
   "cell_type": "code",
   "execution_count": 7,
   "id": "e708f0a2",
   "metadata": {
    "execution": {
     "iopub.execute_input": "2025-04-23T00:37:25.491166Z",
     "iopub.status.busy": "2025-04-23T00:37:25.490958Z",
     "iopub.status.idle": "2025-04-23T00:37:25.494770Z",
     "shell.execute_reply": "2025-04-23T00:37:25.494236Z"
    },
    "papermill": {
     "duration": 0.011238,
     "end_time": "2025-04-23T00:37:25.495740",
     "exception": false,
     "start_time": "2025-04-23T00:37:25.484502",
     "status": "completed"
    },
    "tags": []
   },
   "outputs": [],
   "source": [
    "def label_angle(angle):\n",
    "    if np.isnan(angle):   \n",
    "        return 0\n",
    "    if angle < 30:\n",
    "        return 0\n",
    "    elif angle < 60:\n",
    "        return 1\n",
    "    elif angle < 90:\n",
    "        return 2\n",
    "    elif angle < 120:\n",
    "        return 3\n",
    "    elif angle < 150:\n",
    "        return 4\n",
    "    else:\n",
    "        return 5"
   ]
  },
  {
   "cell_type": "code",
   "execution_count": 8,
   "id": "2e989fbc",
   "metadata": {
    "execution": {
     "iopub.execute_input": "2025-04-23T00:37:25.508534Z",
     "iopub.status.busy": "2025-04-23T00:37:25.507946Z",
     "iopub.status.idle": "2025-04-23T00:37:25.515033Z",
     "shell.execute_reply": "2025-04-23T00:37:25.514354Z"
    },
    "papermill": {
     "duration": 0.01455,
     "end_time": "2025-04-23T00:37:25.516234",
     "exception": false,
     "start_time": "2025-04-23T00:37:25.501684",
     "status": "completed"
    },
    "tags": []
   },
   "outputs": [],
   "source": [
    "def extract_features(extracted, time_diff=0.05):\n",
    "\n",
    "    \n",
    "    # 1. Initialize new columns\n",
    "    extracted['distance_covered'] = 0.0\n",
    "    extracted['idle_time'] = 0.0\n",
    "\n",
    "    # 2. Initialize path tracking variables\n",
    "    path_accumulator = 0.0\n",
    "\n",
    "\n",
    "    # 3. Loop through data\n",
    "    \n",
    "    for i in range(1, len(extracted)):\n",
    "        \n",
    "        # Distance between two points\n",
    "        dx = extracted.loc[i, 'x'] - extracted.loc[i-1, 'x']\n",
    "        dy = extracted.loc[i, 'y'] - extracted.loc[i-1, 'y']\n",
    "        distance = np.sqrt(dx**2 + dy**2)\n",
    "        extracted.loc[i, 'distance_covered'] = distance\n",
    "\n",
    "        # Idle time\n",
    "        if extracted.loc[i, 'x'] == extracted.loc[i-1, 'x'] and extracted.loc[i, 'y'] == extracted.loc[i-1, 'y']:\n",
    "            extracted.loc[i, 'idle_time'] = extracted.loc[i-1, 'idle_time'] + time_diff\n",
    "        else:\n",
    "            extracted.loc[i, 'idle_time'] = 0.0\n",
    "\n",
    "\n",
    "\n",
    "    # 4. Cursor speed\n",
    "    extracted['cursor_speed'] = extracted['distance_covered'] / time_diff\n",
    "    # 5. Acceleration\n",
    "    extracted['acceleration'] = extracted['cursor_speed'] / time_diff\n",
    "    # 6. Movement angles\n",
    "    angles = []\n",
    "    for i in range(1, len(extracted) - 1):\n",
    "        angle = calculate_angle(\n",
    "            extracted.loc[i-1, 'x'], extracted.loc[i-1, 'y'],\n",
    "            extracted.loc[i, 'x'], extracted.loc[i, 'y'],\n",
    "            extracted.loc[i+1, 'x'], extracted.loc[i+1, 'y']\n",
    "        )\n",
    "        angles.append(angle)\n",
    "\n",
    "    # Drop first and last row (lost after angle calculation)\n",
    "    extracted = extracted.iloc[1:-1].copy()\n",
    "    extracted['movement_angle'] = angles\n",
    "    extracted['prev_movement_angle'] = [0] + angles[1:] \n",
    "\n",
    "    # 7. Label angles\n",
    "    extracted['angle_label'] = extracted['movement_angle'].apply(label_angle)\n",
    "    # 8. prev angle label\n",
    "\n",
    "    extracted['prev_angle_label'] = extracted['prev_movement_angle'].apply(label_angle)\n",
    "    return extracted\n"
   ]
  },
  {
   "cell_type": "code",
   "execution_count": 9,
   "id": "770ffa47",
   "metadata": {
    "execution": {
     "iopub.execute_input": "2025-04-23T00:37:25.529035Z",
     "iopub.status.busy": "2025-04-23T00:37:25.528828Z",
     "iopub.status.idle": "2025-04-23T00:37:25.532484Z",
     "shell.execute_reply": "2025-04-23T00:37:25.531834Z"
    },
    "papermill": {
     "duration": 0.011204,
     "end_time": "2025-04-23T00:37:25.533495",
     "exception": false,
     "start_time": "2025-04-23T00:37:25.522291",
     "status": "completed"
    },
    "tags": []
   },
   "outputs": [],
   "source": [
    "# def extract_features(extracted, time_diff=0.05):\n",
    "\n",
    "#     # 1. Initialize new columns\n",
    "#     extracted['distance_covered'] = 0.0\n",
    "#     extracted['idle_time'] = 0.0\n",
    "\n",
    "#     # 2. Loop through data\n",
    "#     for i in range(1, len(extracted)):\n",
    "#         dx = extracted.loc[i, 'x'] - extracted.loc[i-1, 'x']\n",
    "#         dy = extracted.loc[i, 'y'] - extracted.loc[i-1, 'y']\n",
    "#         distance = np.sqrt(dx**2 + dy**2)\n",
    "#         extracted.loc[i, 'distance_covered'] = distance\n",
    "\n",
    "#         if extracted.loc[i, 'x'] == extracted.loc[i-1, 'x'] and extracted.loc[i, 'y'] == extracted.loc[i-1, 'y']:\n",
    "#             extracted.loc[i, 'idle_time'] = extracted.loc[i-1, 'idle_time'] + time_diff\n",
    "#         else:\n",
    "#             extracted.loc[i, 'idle_time'] = 0.0\n",
    "\n",
    "#     # 3. Speed and acceleration\n",
    "#     extracted['cursor_speed'] = extracted['distance_covered'] / time_diff\n",
    "#     extracted['acceleration'] = extracted['cursor_speed'].diff() / time_diff\n",
    "#     extracted['jerk'] = extracted['acceleration'].diff() / time_diff\n",
    "#     extracted['jerk'].iloc[1] = 0\n",
    "\n",
    "#     # 4. Movement angles\n",
    "#     angles = []\n",
    "#     for i in range(1, len(extracted) - 1):\n",
    "#         angle = calculate_angle(\n",
    "#             extracted.loc[i-1, 'x'], extracted.loc[i-1, 'y'],\n",
    "#             extracted.loc[i, 'x'], extracted.loc[i, 'y'],\n",
    "#             extracted.loc[i+1, 'x'], extracted.loc[i+1, 'y']\n",
    "#         )\n",
    "#         angles.append(angle)\n",
    "\n",
    "#     extracted = extracted.iloc[1:-1].copy()\n",
    "#     extracted['movement_angle'] = angles\n",
    "#     extracted['prev_movement_angle'] = [0] + angles[1:]\n",
    "\n",
    "#     # 5. Label angles\n",
    "#     extracted['angle_label'] = extracted['movement_angle'].apply(label_angle)\n",
    "#     extracted['prev_angle_label'] = extracted['prev_movement_angle'].apply(label_angle)\n",
    "\n",
    "#     # 6. Direction change\n",
    "#     extracted['direction_change'] = (extracted['angle_label'] != extracted['prev_angle_label']).astype(int)\n",
    "\n",
    "#     # 7. Path straightness feature\n",
    "#     start_x, start_y = extracted.iloc[0]['x'], extracted.iloc[0]['y']\n",
    "#     end_x, end_y = extracted.iloc[-1]['x'], extracted.iloc[-1]['y']\n",
    "#     straight_line_distance = np.sqrt((end_x - start_x)**2 + (end_y - start_y)**2)\n",
    "#     total_distance = extracted['distance_covered'].sum()\n",
    "#     if total_distance > 0:\n",
    "#         extracted['path_efficiency'] = straight_line_distance / total_distance\n",
    "#     else:\n",
    "#         extracted['path_efficiency'] = 0.0\n",
    "\n",
    "#     return extracted\n"
   ]
  },
  {
   "cell_type": "code",
   "execution_count": 10,
   "id": "abd3dbe9",
   "metadata": {
    "execution": {
     "iopub.execute_input": "2025-04-23T00:37:25.546876Z",
     "iopub.status.busy": "2025-04-23T00:37:25.546495Z",
     "iopub.status.idle": "2025-04-23T00:37:25.550472Z",
     "shell.execute_reply": "2025-04-23T00:37:25.549682Z"
    },
    "papermill": {
     "duration": 0.012282,
     "end_time": "2025-04-23T00:37:25.551555",
     "exception": false,
     "start_time": "2025-04-23T00:37:25.539273",
     "status": "completed"
    },
    "tags": []
   },
   "outputs": [],
   "source": [
    "# extracted['jerk'].isna()"
   ]
  },
  {
   "cell_type": "code",
   "execution_count": 11,
   "id": "92e84cec",
   "metadata": {
    "execution": {
     "iopub.execute_input": "2025-04-23T00:37:25.566054Z",
     "iopub.status.busy": "2025-04-23T00:37:25.565623Z",
     "iopub.status.idle": "2025-04-23T00:37:27.662501Z",
     "shell.execute_reply": "2025-04-23T00:37:27.661838Z"
    },
    "papermill": {
     "duration": 2.104819,
     "end_time": "2025-04-23T00:37:27.664106",
     "exception": false,
     "start_time": "2025-04-23T00:37:25.559287",
     "status": "completed"
    },
    "tags": []
   },
   "outputs": [],
   "source": [
    "extracted = extract_features(df, time_diff=0.05)"
   ]
  },
  {
   "cell_type": "code",
   "execution_count": 12,
   "id": "daf93c2c",
   "metadata": {
    "execution": {
     "iopub.execute_input": "2025-04-23T00:37:27.679582Z",
     "iopub.status.busy": "2025-04-23T00:37:27.679321Z",
     "iopub.status.idle": "2025-04-23T00:37:27.682626Z",
     "shell.execute_reply": "2025-04-23T00:37:27.681945Z"
    },
    "papermill": {
     "duration": 0.012334,
     "end_time": "2025-04-23T00:37:27.683762",
     "exception": false,
     "start_time": "2025-04-23T00:37:27.671428",
     "status": "completed"
    },
    "tags": []
   },
   "outputs": [],
   "source": [
    "# #delete\n",
    "# columns_to_drop = ['x_target' , 'y_target'  , 'movement_angle']\n",
    "# extracted.drop(columns_to_drop , axis = 1 , inplace = True)"
   ]
  },
  {
   "cell_type": "code",
   "execution_count": 13,
   "id": "ed10efbd",
   "metadata": {
    "execution": {
     "iopub.execute_input": "2025-04-23T00:37:27.696193Z",
     "iopub.status.busy": "2025-04-23T00:37:27.695982Z",
     "iopub.status.idle": "2025-04-23T00:37:27.706428Z",
     "shell.execute_reply": "2025-04-23T00:37:27.705688Z"
    },
    "papermill": {
     "duration": 0.017961,
     "end_time": "2025-04-23T00:37:27.707566",
     "exception": false,
     "start_time": "2025-04-23T00:37:27.689605",
     "status": "completed"
    },
    "tags": []
   },
   "outputs": [],
   "source": [
    "columns_to_drop = ['movement_angle']\n",
    "extracted.drop(columns_to_drop , axis = 1 , inplace = True)"
   ]
  },
  {
   "cell_type": "code",
   "execution_count": 14,
   "id": "d6419657",
   "metadata": {
    "execution": {
     "iopub.execute_input": "2025-04-23T00:37:27.720038Z",
     "iopub.status.busy": "2025-04-23T00:37:27.719824Z",
     "iopub.status.idle": "2025-04-23T00:37:27.726975Z",
     "shell.execute_reply": "2025-04-23T00:37:27.726425Z"
    },
    "papermill": {
     "duration": 0.014507,
     "end_time": "2025-04-23T00:37:27.728043",
     "exception": false,
     "start_time": "2025-04-23T00:37:27.713536",
     "status": "completed"
    },
    "tags": []
   },
   "outputs": [
    {
     "data": {
      "text/plain": [
       "timestamp              0\n",
       "x                      0\n",
       "y                      0\n",
       "isClick                0\n",
       "isConfused             0\n",
       "distance_covered       0\n",
       "idle_time              0\n",
       "cursor_speed           0\n",
       "acceleration           0\n",
       "prev_movement_angle    0\n",
       "angle_label            0\n",
       "prev_angle_label       0\n",
       "dtype: int64"
      ]
     },
     "execution_count": 14,
     "metadata": {},
     "output_type": "execute_result"
    }
   ],
   "source": [
    "extracted.isnull().sum()"
   ]
  },
  {
   "cell_type": "markdown",
   "id": "b11c8876",
   "metadata": {
    "papermill": {
     "duration": 0.005894,
     "end_time": "2025-04-23T00:37:27.740035",
     "exception": false,
     "start_time": "2025-04-23T00:37:27.734141",
     "status": "completed"
    },
    "tags": []
   },
   "source": [
    "**Precision is the ratio between the shortest distance between two correct clicks and the actual path**"
   ]
  },
  {
   "cell_type": "markdown",
   "id": "b9ddd2bd",
   "metadata": {
    "papermill": {
     "duration": 0.005702,
     "end_time": "2025-04-23T00:37:27.751617",
     "exception": false,
     "start_time": "2025-04-23T00:37:27.745915",
     "status": "completed"
    },
    "tags": []
   },
   "source": [
    "**studies tell that the cursor speed gets slower on confusion and/or frustration**"
   ]
  },
  {
   "cell_type": "markdown",
   "id": "daa2e9e0",
   "metadata": {
    "papermill": {
     "duration": 0.057484,
     "end_time": "2025-04-23T00:37:27.814916",
     "exception": false,
     "start_time": "2025-04-23T00:37:27.757432",
     "status": "completed"
    },
    "tags": []
   },
   "source": [
    "to be done: normalization, splitting, model, validation, ROC, confusion_matrix, f2_score"
   ]
  },
  {
   "cell_type": "markdown",
   "id": "2ba4a622",
   "metadata": {
    "papermill": {
     "duration": 0.005703,
     "end_time": "2025-04-23T00:37:27.826630",
     "exception": false,
     "start_time": "2025-04-23T00:37:27.820927",
     "status": "completed"
    },
    "tags": []
   },
   "source": [
    "# Preprocessing and model"
   ]
  },
  {
   "cell_type": "code",
   "execution_count": 15,
   "id": "689ac83d",
   "metadata": {
    "execution": {
     "iopub.execute_input": "2025-04-23T00:37:27.839806Z",
     "iopub.status.busy": "2025-04-23T00:37:27.839300Z",
     "iopub.status.idle": "2025-04-23T00:37:27.846730Z",
     "shell.execute_reply": "2025-04-23T00:37:27.846115Z"
    },
    "papermill": {
     "duration": 0.015203,
     "end_time": "2025-04-23T00:37:27.847746",
     "exception": false,
     "start_time": "2025-04-23T00:37:27.832543",
     "status": "completed"
    },
    "tags": []
   },
   "outputs": [
    {
     "data": {
      "text/plain": [
       "timestamp              121175.000000\n",
       "x                         854.002477\n",
       "y                         458.159992\n",
       "isClick                     0.021263\n",
       "isConfused                  0.492155\n",
       "distance_covered           14.125466\n",
       "idle_time                   0.545551\n",
       "cursor_speed              282.509323\n",
       "acceleration             5650.186465\n",
       "prev_movement_angle         3.370225\n",
       "angle_label                 0.041495\n",
       "prev_angle_label            0.041495\n",
       "dtype: float64"
      ]
     },
     "execution_count": 15,
     "metadata": {},
     "output_type": "execute_result"
    }
   ],
   "source": [
    "extracted.mean()"
   ]
  },
  {
   "cell_type": "code",
   "execution_count": 16,
   "id": "607ad93a",
   "metadata": {
    "execution": {
     "iopub.execute_input": "2025-04-23T00:37:27.860882Z",
     "iopub.status.busy": "2025-04-23T00:37:27.860403Z",
     "iopub.status.idle": "2025-04-23T00:37:28.645304Z",
     "shell.execute_reply": "2025-04-23T00:37:28.644683Z"
    },
    "papermill": {
     "duration": 0.79295,
     "end_time": "2025-04-23T00:37:28.646712",
     "exception": false,
     "start_time": "2025-04-23T00:37:27.853762",
     "status": "completed"
    },
    "tags": []
   },
   "outputs": [],
   "source": [
    "from sklearn.preprocessing import StandardScaler , MinMaxScaler\n",
    "from sklearn.model_selection import train_test_split"
   ]
  },
  {
   "cell_type": "code",
   "execution_count": 17,
   "id": "4324eed8",
   "metadata": {
    "execution": {
     "iopub.execute_input": "2025-04-23T00:37:28.660730Z",
     "iopub.status.busy": "2025-04-23T00:37:28.659897Z",
     "iopub.status.idle": "2025-04-23T00:37:28.663564Z",
     "shell.execute_reply": "2025-04-23T00:37:28.663003Z"
    },
    "papermill": {
     "duration": 0.011464,
     "end_time": "2025-04-23T00:37:28.664608",
     "exception": false,
     "start_time": "2025-04-23T00:37:28.653144",
     "status": "completed"
    },
    "tags": []
   },
   "outputs": [],
   "source": [
    "scaler = MinMaxScaler()"
   ]
  },
  {
   "cell_type": "code",
   "execution_count": 18,
   "id": "aedfaf5b",
   "metadata": {
    "execution": {
     "iopub.execute_input": "2025-04-23T00:37:28.677760Z",
     "iopub.status.busy": "2025-04-23T00:37:28.677521Z",
     "iopub.status.idle": "2025-04-23T00:37:28.682151Z",
     "shell.execute_reply": "2025-04-23T00:37:28.681597Z"
    },
    "papermill": {
     "duration": 0.0124,
     "end_time": "2025-04-23T00:37:28.683166",
     "exception": false,
     "start_time": "2025-04-23T00:37:28.670766",
     "status": "completed"
    },
    "tags": []
   },
   "outputs": [],
   "source": [
    "x_train = extracted.drop('isConfused' , axis = 1)\n",
    "y_train = extracted['isConfused']"
   ]
  },
  {
   "cell_type": "code",
   "execution_count": 19,
   "id": "247929c9",
   "metadata": {
    "execution": {
     "iopub.execute_input": "2025-04-23T00:37:28.697000Z",
     "iopub.status.busy": "2025-04-23T00:37:28.696399Z",
     "iopub.status.idle": "2025-04-23T00:37:28.703182Z",
     "shell.execute_reply": "2025-04-23T00:37:28.702625Z"
    },
    "papermill": {
     "duration": 0.014588,
     "end_time": "2025-04-23T00:37:28.704268",
     "exception": false,
     "start_time": "2025-04-23T00:37:28.689680",
     "status": "completed"
    },
    "tags": []
   },
   "outputs": [],
   "source": [
    "X_train , X_test , y_train , y_test = train_test_split(x_train , y_train , random_state = 42 , test_size = 0.2)"
   ]
  },
  {
   "cell_type": "code",
   "execution_count": 20,
   "id": "3de8e684",
   "metadata": {
    "execution": {
     "iopub.execute_input": "2025-04-23T00:37:28.717693Z",
     "iopub.status.busy": "2025-04-23T00:37:28.717148Z",
     "iopub.status.idle": "2025-04-23T00:37:28.725579Z",
     "shell.execute_reply": "2025-04-23T00:37:28.725064Z"
    },
    "papermill": {
     "duration": 0.016063,
     "end_time": "2025-04-23T00:37:28.726665",
     "exception": false,
     "start_time": "2025-04-23T00:37:28.710602",
     "status": "completed"
    },
    "tags": []
   },
   "outputs": [],
   "source": [
    "X_train = scaler.fit_transform(X_train)\n",
    "X_test = scaler.transform(X_test)"
   ]
  },
  {
   "cell_type": "code",
   "execution_count": 21,
   "id": "a765d5f4",
   "metadata": {
    "execution": {
     "iopub.execute_input": "2025-04-23T00:37:28.740839Z",
     "iopub.status.busy": "2025-04-23T00:37:28.740588Z",
     "iopub.status.idle": "2025-04-23T00:37:28.744755Z",
     "shell.execute_reply": "2025-04-23T00:37:28.744146Z"
    },
    "papermill": {
     "duration": 0.012254,
     "end_time": "2025-04-23T00:37:28.745798",
     "exception": false,
     "start_time": "2025-04-23T00:37:28.733544",
     "status": "completed"
    },
    "tags": []
   },
   "outputs": [],
   "source": [
    "def create_sequences(X_data, y_data, time_steps, step=1):\n",
    "    X, y = [], []\n",
    "    for i in range(0, len(X_data) - time_steps, step):\n",
    "        X.append(X_data[i:i + time_steps])\n",
    "        if i + time_steps - 1 < len(y_data):\n",
    "            y.append(y_data.iloc[i + time_steps - 1]) \n",
    "    return np.array(X), np.array(y)\n"
   ]
  },
  {
   "cell_type": "code",
   "execution_count": 22,
   "id": "1381c665",
   "metadata": {
    "execution": {
     "iopub.execute_input": "2025-04-23T00:37:28.758871Z",
     "iopub.status.busy": "2025-04-23T00:37:28.758653Z",
     "iopub.status.idle": "2025-04-23T00:37:28.795059Z",
     "shell.execute_reply": "2025-04-23T00:37:28.794485Z"
    },
    "papermill": {
     "duration": 0.044296,
     "end_time": "2025-04-23T00:37:28.796416",
     "exception": false,
     "start_time": "2025-04-23T00:37:28.752120",
     "status": "completed"
    },
    "tags": []
   },
   "outputs": [],
   "source": [
    "X_train_new , y_train_new = create_sequences(X_train, y_train , 40)\n",
    "x_test_new, y_test_new = create_sequences(X_test, y_test, 40)\n"
   ]
  },
  {
   "cell_type": "code",
   "execution_count": 23,
   "id": "e6467d7c",
   "metadata": {
    "execution": {
     "iopub.execute_input": "2025-04-23T00:37:28.809923Z",
     "iopub.status.busy": "2025-04-23T00:37:28.809696Z",
     "iopub.status.idle": "2025-04-23T00:37:28.814060Z",
     "shell.execute_reply": "2025-04-23T00:37:28.813518Z"
    },
    "papermill": {
     "duration": 0.012442,
     "end_time": "2025-04-23T00:37:28.815435",
     "exception": false,
     "start_time": "2025-04-23T00:37:28.802993",
     "status": "completed"
    },
    "tags": []
   },
   "outputs": [
    {
     "data": {
      "text/plain": [
       "(929, 40, 11)"
      ]
     },
     "execution_count": 23,
     "metadata": {},
     "output_type": "execute_result"
    }
   ],
   "source": [
    "x_test_new.shape"
   ]
  },
  {
   "cell_type": "code",
   "execution_count": 24,
   "id": "5cb09707",
   "metadata": {
    "execution": {
     "iopub.execute_input": "2025-04-23T00:37:28.829027Z",
     "iopub.status.busy": "2025-04-23T00:37:28.828783Z",
     "iopub.status.idle": "2025-04-23T00:37:28.893965Z",
     "shell.execute_reply": "2025-04-23T00:37:28.893195Z"
    },
    "papermill": {
     "duration": 0.073645,
     "end_time": "2025-04-23T00:37:28.895348",
     "exception": false,
     "start_time": "2025-04-23T00:37:28.821703",
     "status": "completed"
    },
    "tags": []
   },
   "outputs": [],
   "source": [
    "from tensorflow.keras.models import Sequential\n",
    "from tensorflow.keras.layers import LSTM,Dense,Dropout,GRU\n",
    "from tensorflow.keras.callbacks import ReduceLROnPlateau\n",
    "from tensorflow.keras.callbacks import EarlyStopping\n",
    "from tensorflow.keras.optimizers import Adam\n"
   ]
  },
  {
   "cell_type": "code",
   "execution_count": 25,
   "id": "5813578f",
   "metadata": {
    "execution": {
     "iopub.execute_input": "2025-04-23T00:37:28.909368Z",
     "iopub.status.busy": "2025-04-23T00:37:28.908947Z",
     "iopub.status.idle": "2025-04-23T00:37:28.912296Z",
     "shell.execute_reply": "2025-04-23T00:37:28.911601Z"
    },
    "papermill": {
     "duration": 0.011624,
     "end_time": "2025-04-23T00:37:28.913470",
     "exception": false,
     "start_time": "2025-04-23T00:37:28.901846",
     "status": "completed"
    },
    "tags": []
   },
   "outputs": [],
   "source": [
    "# model = Sequential([\n",
    "    \n",
    "#     LSTM(32, return_sequences=True, name=\"LSTM1\" , input_shape = (X_train_new.shape[1] , X_train_new.shape[2])),\n",
    "#     # Dense(32 , activation = 'relu'),\n",
    "#     # Dropout(0.25),\n",
    "#     LSTM(100, return_sequences=True, dropout=0.15, name=\"LSTM2\" ),\n",
    "#     LSTM(64, return_sequences=True, dropout=0.15, name=\"LSTM3\" ),\n",
    "#     LSTM(32, return_sequences=False, dropout=0.15, name=\"LSTM4\" ),\n",
    "\n",
    "#     # GRU(50, return_sequences=False, dropout=0.15, name=\"GRU\"),\n",
    "#     Dense(1 , activation = 'sigmoid')\n",
    "    \n",
    "# ])"
   ]
  },
  {
   "cell_type": "code",
   "execution_count": 26,
   "id": "8589c31c",
   "metadata": {
    "execution": {
     "iopub.execute_input": "2025-04-23T00:37:28.926836Z",
     "iopub.status.busy": "2025-04-23T00:37:28.926586Z",
     "iopub.status.idle": "2025-04-23T00:37:31.195079Z",
     "shell.execute_reply": "2025-04-23T00:37:31.194493Z"
    },
    "papermill": {
     "duration": 2.27665,
     "end_time": "2025-04-23T00:37:31.196441",
     "exception": false,
     "start_time": "2025-04-23T00:37:28.919791",
     "status": "completed"
    },
    "tags": []
   },
   "outputs": [
    {
     "name": "stderr",
     "output_type": "stream",
     "text": [
      "I0000 00:00:1745368649.874219      19 gpu_device.cc:2022] Created device /job:localhost/replica:0/task:0/device:GPU:0 with 15513 MB memory:  -> device: 0, name: Tesla P100-PCIE-16GB, pci bus id: 0000:00:04.0, compute capability: 6.0\n"
     ]
    }
   ],
   "source": [
    "model = Sequential([\n",
    "    \n",
    "    LSTM(32, return_sequences=True, name=\"LSTM1\" , input_shape = (X_train_new.shape[1] , X_train_new.shape[2])),\n",
    "    # Dense(32 , activation = 'relu'),\n",
    "    # Dropout(0.25),\n",
    "    LSTM(100, return_sequences=True, dropout=0.25, name=\"LSTM2\" ),\n",
    "    LSTM(64, return_sequences=True, dropout=0.25, name=\"LSTM3\" ),\n",
    "    LSTM(32, return_sequences=True, dropout=0.25, name=\"LSTM4\" ),\n",
    "\n",
    "    GRU(50, return_sequences=False, dropout=0.15, name=\"GRU\"),\n",
    "    \n",
    "    Dense(1 , activation = 'sigmoid')\n",
    "    \n",
    "])"
   ]
  },
  {
   "cell_type": "code",
   "execution_count": 27,
   "id": "39c6a965",
   "metadata": {
    "execution": {
     "iopub.execute_input": "2025-04-23T00:37:31.210237Z",
     "iopub.status.busy": "2025-04-23T00:37:31.210005Z",
     "iopub.status.idle": "2025-04-23T00:37:31.214609Z",
     "shell.execute_reply": "2025-04-23T00:37:31.214048Z"
    },
    "papermill": {
     "duration": 0.012523,
     "end_time": "2025-04-23T00:37:31.215710",
     "exception": false,
     "start_time": "2025-04-23T00:37:31.203187",
     "status": "completed"
    },
    "tags": []
   },
   "outputs": [
    {
     "data": {
      "text/plain": [
       "Index(['timestamp', 'x', 'y', 'isClick', 'isConfused', 'distance_covered',\n",
       "       'idle_time', 'cursor_speed', 'acceleration', 'prev_movement_angle',\n",
       "       'angle_label', 'prev_angle_label'],\n",
       "      dtype='object')"
      ]
     },
     "execution_count": 27,
     "metadata": {},
     "output_type": "execute_result"
    }
   ],
   "source": [
    "extracted.columns"
   ]
  },
  {
   "cell_type": "code",
   "execution_count": 28,
   "id": "81a33c63",
   "metadata": {
    "execution": {
     "iopub.execute_input": "2025-04-23T00:37:31.229527Z",
     "iopub.status.busy": "2025-04-23T00:37:31.228995Z",
     "iopub.status.idle": "2025-04-23T00:37:31.242831Z",
     "shell.execute_reply": "2025-04-23T00:37:31.242286Z"
    },
    "papermill": {
     "duration": 0.021778,
     "end_time": "2025-04-23T00:37:31.243886",
     "exception": false,
     "start_time": "2025-04-23T00:37:31.222108",
     "status": "completed"
    },
    "tags": []
   },
   "outputs": [
    {
     "data": {
      "text/html": [
       "<pre style=\"white-space:pre;overflow-x:auto;line-height:normal;font-family:Menlo,'DejaVu Sans Mono',consolas,'Courier New',monospace\"><span style=\"font-weight: bold\">Model: \"sequential\"</span>\n",
       "</pre>\n"
      ],
      "text/plain": [
       "\u001b[1mModel: \"sequential\"\u001b[0m\n"
      ]
     },
     "metadata": {},
     "output_type": "display_data"
    },
    {
     "data": {
      "text/html": [
       "<pre style=\"white-space:pre;overflow-x:auto;line-height:normal;font-family:Menlo,'DejaVu Sans Mono',consolas,'Courier New',monospace\">┏━━━━━━━━━━━━━━━━━━━━━━━━━━━━━━━━━━━━━━┳━━━━━━━━━━━━━━━━━━━━━━━━━━━━━┳━━━━━━━━━━━━━━━━━┓\n",
       "┃<span style=\"font-weight: bold\"> Layer (type)                         </span>┃<span style=\"font-weight: bold\"> Output Shape                </span>┃<span style=\"font-weight: bold\">         Param # </span>┃\n",
       "┡━━━━━━━━━━━━━━━━━━━━━━━━━━━━━━━━━━━━━━╇━━━━━━━━━━━━━━━━━━━━━━━━━━━━━╇━━━━━━━━━━━━━━━━━┩\n",
       "│ LSTM1 (<span style=\"color: #0087ff; text-decoration-color: #0087ff\">LSTM</span>)                         │ (<span style=\"color: #00d7ff; text-decoration-color: #00d7ff\">None</span>, <span style=\"color: #00af00; text-decoration-color: #00af00\">40</span>, <span style=\"color: #00af00; text-decoration-color: #00af00\">32</span>)              │           <span style=\"color: #00af00; text-decoration-color: #00af00\">5,632</span> │\n",
       "├──────────────────────────────────────┼─────────────────────────────┼─────────────────┤\n",
       "│ LSTM2 (<span style=\"color: #0087ff; text-decoration-color: #0087ff\">LSTM</span>)                         │ (<span style=\"color: #00d7ff; text-decoration-color: #00d7ff\">None</span>, <span style=\"color: #00af00; text-decoration-color: #00af00\">40</span>, <span style=\"color: #00af00; text-decoration-color: #00af00\">100</span>)             │          <span style=\"color: #00af00; text-decoration-color: #00af00\">53,200</span> │\n",
       "├──────────────────────────────────────┼─────────────────────────────┼─────────────────┤\n",
       "│ LSTM3 (<span style=\"color: #0087ff; text-decoration-color: #0087ff\">LSTM</span>)                         │ (<span style=\"color: #00d7ff; text-decoration-color: #00d7ff\">None</span>, <span style=\"color: #00af00; text-decoration-color: #00af00\">40</span>, <span style=\"color: #00af00; text-decoration-color: #00af00\">64</span>)              │          <span style=\"color: #00af00; text-decoration-color: #00af00\">42,240</span> │\n",
       "├──────────────────────────────────────┼─────────────────────────────┼─────────────────┤\n",
       "│ LSTM4 (<span style=\"color: #0087ff; text-decoration-color: #0087ff\">LSTM</span>)                         │ (<span style=\"color: #00d7ff; text-decoration-color: #00d7ff\">None</span>, <span style=\"color: #00af00; text-decoration-color: #00af00\">40</span>, <span style=\"color: #00af00; text-decoration-color: #00af00\">32</span>)              │          <span style=\"color: #00af00; text-decoration-color: #00af00\">12,416</span> │\n",
       "├──────────────────────────────────────┼─────────────────────────────┼─────────────────┤\n",
       "│ GRU (<span style=\"color: #0087ff; text-decoration-color: #0087ff\">GRU</span>)                            │ (<span style=\"color: #00d7ff; text-decoration-color: #00d7ff\">None</span>, <span style=\"color: #00af00; text-decoration-color: #00af00\">50</span>)                  │          <span style=\"color: #00af00; text-decoration-color: #00af00\">12,600</span> │\n",
       "├──────────────────────────────────────┼─────────────────────────────┼─────────────────┤\n",
       "│ dense (<span style=\"color: #0087ff; text-decoration-color: #0087ff\">Dense</span>)                        │ (<span style=\"color: #00d7ff; text-decoration-color: #00d7ff\">None</span>, <span style=\"color: #00af00; text-decoration-color: #00af00\">1</span>)                   │              <span style=\"color: #00af00; text-decoration-color: #00af00\">51</span> │\n",
       "└──────────────────────────────────────┴─────────────────────────────┴─────────────────┘\n",
       "</pre>\n"
      ],
      "text/plain": [
       "┏━━━━━━━━━━━━━━━━━━━━━━━━━━━━━━━━━━━━━━┳━━━━━━━━━━━━━━━━━━━━━━━━━━━━━┳━━━━━━━━━━━━━━━━━┓\n",
       "┃\u001b[1m \u001b[0m\u001b[1mLayer (type)                        \u001b[0m\u001b[1m \u001b[0m┃\u001b[1m \u001b[0m\u001b[1mOutput Shape               \u001b[0m\u001b[1m \u001b[0m┃\u001b[1m \u001b[0m\u001b[1m        Param #\u001b[0m\u001b[1m \u001b[0m┃\n",
       "┡━━━━━━━━━━━━━━━━━━━━━━━━━━━━━━━━━━━━━━╇━━━━━━━━━━━━━━━━━━━━━━━━━━━━━╇━━━━━━━━━━━━━━━━━┩\n",
       "│ LSTM1 (\u001b[38;5;33mLSTM\u001b[0m)                         │ (\u001b[38;5;45mNone\u001b[0m, \u001b[38;5;34m40\u001b[0m, \u001b[38;5;34m32\u001b[0m)              │           \u001b[38;5;34m5,632\u001b[0m │\n",
       "├──────────────────────────────────────┼─────────────────────────────┼─────────────────┤\n",
       "│ LSTM2 (\u001b[38;5;33mLSTM\u001b[0m)                         │ (\u001b[38;5;45mNone\u001b[0m, \u001b[38;5;34m40\u001b[0m, \u001b[38;5;34m100\u001b[0m)             │          \u001b[38;5;34m53,200\u001b[0m │\n",
       "├──────────────────────────────────────┼─────────────────────────────┼─────────────────┤\n",
       "│ LSTM3 (\u001b[38;5;33mLSTM\u001b[0m)                         │ (\u001b[38;5;45mNone\u001b[0m, \u001b[38;5;34m40\u001b[0m, \u001b[38;5;34m64\u001b[0m)              │          \u001b[38;5;34m42,240\u001b[0m │\n",
       "├──────────────────────────────────────┼─────────────────────────────┼─────────────────┤\n",
       "│ LSTM4 (\u001b[38;5;33mLSTM\u001b[0m)                         │ (\u001b[38;5;45mNone\u001b[0m, \u001b[38;5;34m40\u001b[0m, \u001b[38;5;34m32\u001b[0m)              │          \u001b[38;5;34m12,416\u001b[0m │\n",
       "├──────────────────────────────────────┼─────────────────────────────┼─────────────────┤\n",
       "│ GRU (\u001b[38;5;33mGRU\u001b[0m)                            │ (\u001b[38;5;45mNone\u001b[0m, \u001b[38;5;34m50\u001b[0m)                  │          \u001b[38;5;34m12,600\u001b[0m │\n",
       "├──────────────────────────────────────┼─────────────────────────────┼─────────────────┤\n",
       "│ dense (\u001b[38;5;33mDense\u001b[0m)                        │ (\u001b[38;5;45mNone\u001b[0m, \u001b[38;5;34m1\u001b[0m)                   │              \u001b[38;5;34m51\u001b[0m │\n",
       "└──────────────────────────────────────┴─────────────────────────────┴─────────────────┘\n"
      ]
     },
     "metadata": {},
     "output_type": "display_data"
    },
    {
     "data": {
      "text/html": [
       "<pre style=\"white-space:pre;overflow-x:auto;line-height:normal;font-family:Menlo,'DejaVu Sans Mono',consolas,'Courier New',monospace\"><span style=\"font-weight: bold\"> Total params: </span><span style=\"color: #00af00; text-decoration-color: #00af00\">126,139</span> (492.73 KB)\n",
       "</pre>\n"
      ],
      "text/plain": [
       "\u001b[1m Total params: \u001b[0m\u001b[38;5;34m126,139\u001b[0m (492.73 KB)\n"
      ]
     },
     "metadata": {},
     "output_type": "display_data"
    },
    {
     "data": {
      "text/html": [
       "<pre style=\"white-space:pre;overflow-x:auto;line-height:normal;font-family:Menlo,'DejaVu Sans Mono',consolas,'Courier New',monospace\"><span style=\"font-weight: bold\"> Trainable params: </span><span style=\"color: #00af00; text-decoration-color: #00af00\">126,139</span> (492.73 KB)\n",
       "</pre>\n"
      ],
      "text/plain": [
       "\u001b[1m Trainable params: \u001b[0m\u001b[38;5;34m126,139\u001b[0m (492.73 KB)\n"
      ]
     },
     "metadata": {},
     "output_type": "display_data"
    },
    {
     "data": {
      "text/html": [
       "<pre style=\"white-space:pre;overflow-x:auto;line-height:normal;font-family:Menlo,'DejaVu Sans Mono',consolas,'Courier New',monospace\"><span style=\"font-weight: bold\"> Non-trainable params: </span><span style=\"color: #00af00; text-decoration-color: #00af00\">0</span> (0.00 B)\n",
       "</pre>\n"
      ],
      "text/plain": [
       "\u001b[1m Non-trainable params: \u001b[0m\u001b[38;5;34m0\u001b[0m (0.00 B)\n"
      ]
     },
     "metadata": {},
     "output_type": "display_data"
    }
   ],
   "source": [
    "model.summary()"
   ]
  },
  {
   "cell_type": "code",
   "execution_count": 29,
   "id": "32aab6be",
   "metadata": {
    "execution": {
     "iopub.execute_input": "2025-04-23T00:37:31.259113Z",
     "iopub.status.busy": "2025-04-23T00:37:31.258616Z",
     "iopub.status.idle": "2025-04-23T00:37:31.267145Z",
     "shell.execute_reply": "2025-04-23T00:37:31.266619Z"
    },
    "papermill": {
     "duration": 0.016947,
     "end_time": "2025-04-23T00:37:31.268116",
     "exception": false,
     "start_time": "2025-04-23T00:37:31.251169",
     "status": "completed"
    },
    "tags": []
   },
   "outputs": [],
   "source": [
    "opt = Adam(learning_rate = 0.0007)"
   ]
  },
  {
   "cell_type": "code",
   "execution_count": 30,
   "id": "0086c59a",
   "metadata": {
    "execution": {
     "iopub.execute_input": "2025-04-23T00:37:31.283226Z",
     "iopub.status.busy": "2025-04-23T00:37:31.282668Z",
     "iopub.status.idle": "2025-04-23T00:37:31.289411Z",
     "shell.execute_reply": "2025-04-23T00:37:31.288853Z"
    },
    "papermill": {
     "duration": 0.01532,
     "end_time": "2025-04-23T00:37:31.290508",
     "exception": false,
     "start_time": "2025-04-23T00:37:31.275188",
     "status": "completed"
    },
    "tags": []
   },
   "outputs": [],
   "source": [
    "model.compile(optimizer = opt , metrics = ['accuracy'] , loss = 'BinaryCrossentropy')"
   ]
  },
  {
   "cell_type": "code",
   "execution_count": 31,
   "id": "d1d2d8bd",
   "metadata": {
    "execution": {
     "iopub.execute_input": "2025-04-23T00:37:31.306933Z",
     "iopub.status.busy": "2025-04-23T00:37:31.306483Z",
     "iopub.status.idle": "2025-04-23T00:37:31.310230Z",
     "shell.execute_reply": "2025-04-23T00:37:31.309591Z"
    },
    "papermill": {
     "duration": 0.013312,
     "end_time": "2025-04-23T00:37:31.311352",
     "exception": false,
     "start_time": "2025-04-23T00:37:31.298040",
     "status": "completed"
    },
    "tags": []
   },
   "outputs": [],
   "source": [
    "lr_scheduler = ReduceLROnPlateau(monitor='val_loss', factor=0.8, patience=5, verbose=1)\n",
    "\n",
    "Es = EarlyStopping(\n",
    "    monitor = 'val_loss',\n",
    "    patience = 10,\n",
    "    restore_best_weights = True,\n",
    "    start_from_epoch = 15\n",
    "\n",
    ")"
   ]
  },
  {
   "cell_type": "code",
   "execution_count": 32,
   "id": "4e31f2b3",
   "metadata": {
    "execution": {
     "iopub.execute_input": "2025-04-23T00:37:31.327524Z",
     "iopub.status.busy": "2025-04-23T00:37:31.327263Z",
     "iopub.status.idle": "2025-04-23T00:41:23.015609Z",
     "shell.execute_reply": "2025-04-23T00:41:23.015022Z"
    },
    "papermill": {
     "duration": 231.697223,
     "end_time": "2025-04-23T00:41:23.016774",
     "exception": false,
     "start_time": "2025-04-23T00:37:31.319551",
     "status": "completed"
    },
    "tags": []
   },
   "outputs": [
    {
     "name": "stdout",
     "output_type": "stream",
     "text": [
      "Epoch 1/125\n"
     ]
    },
    {
     "name": "stderr",
     "output_type": "stream",
     "text": [
      "I0000 00:00:1745368658.430409      59 cuda_dnn.cc:529] Loaded cuDNN version 90300\n"
     ]
    },
    {
     "name": "stdout",
     "output_type": "stream",
     "text": [
      "\u001b[1m384/384\u001b[0m \u001b[32m━━━━━━━━━━━━━━━━━━━━\u001b[0m\u001b[37m\u001b[0m \u001b[1m15s\u001b[0m 16ms/step - accuracy: 0.4896 - loss: 0.6973 - val_accuracy: 0.5424 - val_loss: 0.6910 - learning_rate: 7.0000e-04\n",
      "Epoch 2/125\n",
      "\u001b[1m384/384\u001b[0m \u001b[32m━━━━━━━━━━━━━━━━━━━━\u001b[0m\u001b[37m\u001b[0m \u001b[1m5s\u001b[0m 14ms/step - accuracy: 0.4675 - loss: 0.6950 - val_accuracy: 0.5424 - val_loss: 0.6910 - learning_rate: 7.0000e-04\n",
      "Epoch 3/125\n",
      "\u001b[1m384/384\u001b[0m \u001b[32m━━━━━━━━━━━━━━━━━━━━\u001b[0m\u001b[37m\u001b[0m \u001b[1m5s\u001b[0m 13ms/step - accuracy: 0.4760 - loss: 0.6943 - val_accuracy: 0.5424 - val_loss: 0.6913 - learning_rate: 7.0000e-04\n",
      "Epoch 4/125\n",
      "\u001b[1m384/384\u001b[0m \u001b[32m━━━━━━━━━━━━━━━━━━━━\u001b[0m\u001b[37m\u001b[0m \u001b[1m5s\u001b[0m 14ms/step - accuracy: 0.4779 - loss: 0.6945 - val_accuracy: 0.5424 - val_loss: 0.6915 - learning_rate: 7.0000e-04\n",
      "Epoch 5/125\n",
      "\u001b[1m384/384\u001b[0m \u001b[32m━━━━━━━━━━━━━━━━━━━━\u001b[0m\u001b[37m\u001b[0m \u001b[1m5s\u001b[0m 14ms/step - accuracy: 0.4811 - loss: 0.6940 - val_accuracy: 0.5424 - val_loss: 0.6921 - learning_rate: 7.0000e-04\n",
      "Epoch 6/125\n",
      "\u001b[1m381/384\u001b[0m \u001b[32m━━━━━━━━━━━━━━━━━━━\u001b[0m\u001b[37m━\u001b[0m \u001b[1m0s\u001b[0m 12ms/step - accuracy: 0.4818 - loss: 0.6938\n",
      "Epoch 6: ReduceLROnPlateau reducing learning rate to 0.000559999980032444.\n",
      "\u001b[1m384/384\u001b[0m \u001b[32m━━━━━━━━━━━━━━━━━━━━\u001b[0m\u001b[37m\u001b[0m \u001b[1m5s\u001b[0m 13ms/step - accuracy: 0.4820 - loss: 0.6938 - val_accuracy: 0.5424 - val_loss: 0.6923 - learning_rate: 7.0000e-04\n",
      "Epoch 7/125\n",
      "\u001b[1m384/384\u001b[0m \u001b[32m━━━━━━━━━━━━━━━━━━━━\u001b[0m\u001b[37m\u001b[0m \u001b[1m5s\u001b[0m 13ms/step - accuracy: 0.4811 - loss: 0.6936 - val_accuracy: 0.5424 - val_loss: 0.6923 - learning_rate: 5.6000e-04\n",
      "Epoch 8/125\n",
      "\u001b[1m384/384\u001b[0m \u001b[32m━━━━━━━━━━━━━━━━━━━━\u001b[0m\u001b[37m\u001b[0m \u001b[1m5s\u001b[0m 13ms/step - accuracy: 0.4775 - loss: 0.6936 - val_accuracy: 0.5424 - val_loss: 0.6922 - learning_rate: 5.6000e-04\n",
      "Epoch 9/125\n",
      "\u001b[1m384/384\u001b[0m \u001b[32m━━━━━━━━━━━━━━━━━━━━\u001b[0m\u001b[37m\u001b[0m \u001b[1m5s\u001b[0m 13ms/step - accuracy: 0.4646 - loss: 0.6937 - val_accuracy: 0.5424 - val_loss: 0.6914 - learning_rate: 5.6000e-04\n",
      "Epoch 10/125\n",
      "\u001b[1m384/384\u001b[0m \u001b[32m━━━━━━━━━━━━━━━━━━━━\u001b[0m\u001b[37m\u001b[0m \u001b[1m5s\u001b[0m 13ms/step - accuracy: 0.4674 - loss: 0.6938 - val_accuracy: 0.5424 - val_loss: 0.6930 - learning_rate: 5.6000e-04\n",
      "Epoch 11/125\n",
      "\u001b[1m383/384\u001b[0m \u001b[32m━━━━━━━━━━━━━━━━━━━\u001b[0m\u001b[37m━\u001b[0m \u001b[1m0s\u001b[0m 12ms/step - accuracy: 0.4742 - loss: 0.6934\n",
      "Epoch 11: ReduceLROnPlateau reducing learning rate to 0.00044799996539950375.\n",
      "\u001b[1m384/384\u001b[0m \u001b[32m━━━━━━━━━━━━━━━━━━━━\u001b[0m\u001b[37m\u001b[0m \u001b[1m5s\u001b[0m 13ms/step - accuracy: 0.4743 - loss: 0.6934 - val_accuracy: 0.5424 - val_loss: 0.6929 - learning_rate: 5.6000e-04\n",
      "Epoch 12/125\n",
      "\u001b[1m384/384\u001b[0m \u001b[32m━━━━━━━━━━━━━━━━━━━━\u001b[0m\u001b[37m\u001b[0m \u001b[1m5s\u001b[0m 14ms/step - accuracy: 0.4753 - loss: 0.6934 - val_accuracy: 0.5424 - val_loss: 0.6930 - learning_rate: 4.4800e-04\n",
      "Epoch 13/125\n",
      "\u001b[1m384/384\u001b[0m \u001b[32m━━━━━━━━━━━━━━━━━━━━\u001b[0m\u001b[37m\u001b[0m \u001b[1m5s\u001b[0m 13ms/step - accuracy: 0.4774 - loss: 0.6934 - val_accuracy: 0.5385 - val_loss: 0.6930 - learning_rate: 4.4800e-04\n",
      "Epoch 14/125\n",
      "\u001b[1m384/384\u001b[0m \u001b[32m━━━━━━━━━━━━━━━━━━━━\u001b[0m\u001b[37m\u001b[0m \u001b[1m5s\u001b[0m 13ms/step - accuracy: 0.4887 - loss: 0.6933 - val_accuracy: 0.5398 - val_loss: 0.6930 - learning_rate: 4.4800e-04\n",
      "Epoch 15/125\n",
      "\u001b[1m384/384\u001b[0m \u001b[32m━━━━━━━━━━━━━━━━━━━━\u001b[0m\u001b[37m\u001b[0m \u001b[1m5s\u001b[0m 13ms/step - accuracy: 0.4883 - loss: 0.6933 - val_accuracy: 0.5424 - val_loss: 0.6929 - learning_rate: 4.4800e-04\n",
      "Epoch 16/125\n",
      "\u001b[1m381/384\u001b[0m \u001b[32m━━━━━━━━━━━━━━━━━━━\u001b[0m\u001b[37m━\u001b[0m \u001b[1m0s\u001b[0m 12ms/step - accuracy: 0.4846 - loss: 0.6934\n",
      "Epoch 16: ReduceLROnPlateau reducing learning rate to 0.00035839998163282876.\n",
      "\u001b[1m384/384\u001b[0m \u001b[32m━━━━━━━━━━━━━━━━━━━━\u001b[0m\u001b[37m\u001b[0m \u001b[1m5s\u001b[0m 13ms/step - accuracy: 0.4847 - loss: 0.6934 - val_accuracy: 0.4615 - val_loss: 0.6932 - learning_rate: 4.4800e-04\n",
      "Epoch 17/125\n",
      "\u001b[1m384/384\u001b[0m \u001b[32m━━━━━━━━━━━━━━━━━━━━\u001b[0m\u001b[37m\u001b[0m \u001b[1m5s\u001b[0m 13ms/step - accuracy: 0.4934 - loss: 0.6932 - val_accuracy: 0.4550 - val_loss: 0.6933 - learning_rate: 3.5840e-04\n",
      "Epoch 18/125\n",
      "\u001b[1m384/384\u001b[0m \u001b[32m━━━━━━━━━━━━━━━━━━━━\u001b[0m\u001b[37m\u001b[0m \u001b[1m5s\u001b[0m 14ms/step - accuracy: 0.5048 - loss: 0.6932 - val_accuracy: 0.5280 - val_loss: 0.6931 - learning_rate: 3.5840e-04\n",
      "Epoch 19/125\n",
      "\u001b[1m384/384\u001b[0m \u001b[32m━━━━━━━━━━━━━━━━━━━━\u001b[0m\u001b[37m\u001b[0m \u001b[1m5s\u001b[0m 13ms/step - accuracy: 0.5026 - loss: 0.6932 - val_accuracy: 0.5450 - val_loss: 0.6928 - learning_rate: 3.5840e-04\n",
      "Epoch 20/125\n",
      "\u001b[1m384/384\u001b[0m \u001b[32m━━━━━━━━━━━━━━━━━━━━\u001b[0m\u001b[37m\u001b[0m \u001b[1m5s\u001b[0m 13ms/step - accuracy: 0.4894 - loss: 0.6934 - val_accuracy: 0.5267 - val_loss: 0.6929 - learning_rate: 3.5840e-04\n",
      "Epoch 21/125\n",
      "\u001b[1m384/384\u001b[0m \u001b[32m━━━━━━━━━━━━━━━━━━━━\u001b[0m\u001b[37m\u001b[0m \u001b[1m5s\u001b[0m 13ms/step - accuracy: 0.4933 - loss: 0.6932 - val_accuracy: 0.5424 - val_loss: 0.6907 - learning_rate: 3.5840e-04\n",
      "Epoch 22/125\n",
      "\u001b[1m384/384\u001b[0m \u001b[32m━━━━━━━━━━━━━━━━━━━━\u001b[0m\u001b[37m\u001b[0m \u001b[1m5s\u001b[0m 13ms/step - accuracy: 0.4891 - loss: 0.6936 - val_accuracy: 0.5098 - val_loss: 0.6932 - learning_rate: 3.5840e-04\n",
      "Epoch 23/125\n",
      "\u001b[1m384/384\u001b[0m \u001b[32m━━━━━━━━━━━━━━━━━━━━\u001b[0m\u001b[37m\u001b[0m \u001b[1m5s\u001b[0m 13ms/step - accuracy: 0.5005 - loss: 0.6928 - val_accuracy: 0.5437 - val_loss: 0.6922 - learning_rate: 3.5840e-04\n",
      "Epoch 24/125\n",
      "\u001b[1m384/384\u001b[0m \u001b[32m━━━━━━━━━━━━━━━━━━━━\u001b[0m\u001b[37m\u001b[0m \u001b[1m5s\u001b[0m 14ms/step - accuracy: 0.5787 - loss: 0.6870 - val_accuracy: 0.6506 - val_loss: 0.6326 - learning_rate: 3.5840e-04\n",
      "Epoch 25/125\n",
      "\u001b[1m384/384\u001b[0m \u001b[32m━━━━━━━━━━━━━━━━━━━━\u001b[0m\u001b[37m\u001b[0m \u001b[1m5s\u001b[0m 13ms/step - accuracy: 0.6501 - loss: 0.6201 - val_accuracy: 0.6467 - val_loss: 0.6276 - learning_rate: 3.5840e-04\n",
      "Epoch 26/125\n",
      "\u001b[1m384/384\u001b[0m \u001b[32m━━━━━━━━━━━━━━━━━━━━\u001b[0m\u001b[37m\u001b[0m \u001b[1m5s\u001b[0m 13ms/step - accuracy: 0.6655 - loss: 0.6096 - val_accuracy: 0.6584 - val_loss: 0.6185 - learning_rate: 3.5840e-04\n",
      "Epoch 27/125\n",
      "\u001b[1m384/384\u001b[0m \u001b[32m━━━━━━━━━━━━━━━━━━━━\u001b[0m\u001b[37m\u001b[0m \u001b[1m5s\u001b[0m 13ms/step - accuracy: 0.6750 - loss: 0.6012 - val_accuracy: 0.6636 - val_loss: 0.6179 - learning_rate: 3.5840e-04\n",
      "Epoch 28/125\n",
      "\u001b[1m384/384\u001b[0m \u001b[32m━━━━━━━━━━━━━━━━━━━━\u001b[0m\u001b[37m\u001b[0m \u001b[1m5s\u001b[0m 13ms/step - accuracy: 0.6757 - loss: 0.6010 - val_accuracy: 0.6610 - val_loss: 0.6144 - learning_rate: 3.5840e-04\n",
      "Epoch 29/125\n",
      "\u001b[1m384/384\u001b[0m \u001b[32m━━━━━━━━━━━━━━━━━━━━\u001b[0m\u001b[37m\u001b[0m \u001b[1m5s\u001b[0m 13ms/step - accuracy: 0.6789 - loss: 0.5980 - val_accuracy: 0.6623 - val_loss: 0.6175 - learning_rate: 3.5840e-04\n",
      "Epoch 30/125\n",
      "\u001b[1m384/384\u001b[0m \u001b[32m━━━━━━━━━━━━━━━━━━━━\u001b[0m\u001b[37m\u001b[0m \u001b[1m5s\u001b[0m 14ms/step - accuracy: 0.6810 - loss: 0.6009 - val_accuracy: 0.6728 - val_loss: 0.6073 - learning_rate: 3.5840e-04\n",
      "Epoch 31/125\n",
      "\u001b[1m384/384\u001b[0m \u001b[32m━━━━━━━━━━━━━━━━━━━━\u001b[0m\u001b[37m\u001b[0m \u001b[1m5s\u001b[0m 13ms/step - accuracy: 0.6719 - loss: 0.5947 - val_accuracy: 0.6741 - val_loss: 0.6077 - learning_rate: 3.5840e-04\n",
      "Epoch 32/125\n",
      "\u001b[1m384/384\u001b[0m \u001b[32m━━━━━━━━━━━━━━━━━━━━\u001b[0m\u001b[37m\u001b[0m \u001b[1m5s\u001b[0m 13ms/step - accuracy: 0.6802 - loss: 0.5955 - val_accuracy: 0.6714 - val_loss: 0.6007 - learning_rate: 3.5840e-04\n",
      "Epoch 33/125\n",
      "\u001b[1m384/384\u001b[0m \u001b[32m━━━━━━━━━━━━━━━━━━━━\u001b[0m\u001b[37m\u001b[0m \u001b[1m5s\u001b[0m 13ms/step - accuracy: 0.6942 - loss: 0.5910 - val_accuracy: 0.6701 - val_loss: 0.5966 - learning_rate: 3.5840e-04\n",
      "Epoch 34/125\n",
      "\u001b[1m384/384\u001b[0m \u001b[32m━━━━━━━━━━━━━━━━━━━━\u001b[0m\u001b[37m\u001b[0m \u001b[1m5s\u001b[0m 13ms/step - accuracy: 0.6844 - loss: 0.5941 - val_accuracy: 0.6714 - val_loss: 0.6061 - learning_rate: 3.5840e-04\n",
      "Epoch 35/125\n",
      "\u001b[1m384/384\u001b[0m \u001b[32m━━━━━━━━━━━━━━━━━━━━\u001b[0m\u001b[37m\u001b[0m \u001b[1m5s\u001b[0m 13ms/step - accuracy: 0.6857 - loss: 0.5912 - val_accuracy: 0.6701 - val_loss: 0.6004 - learning_rate: 3.5840e-04\n",
      "Epoch 36/125\n",
      "\u001b[1m384/384\u001b[0m \u001b[32m━━━━━━━━━━━━━━━━━━━━\u001b[0m\u001b[37m\u001b[0m \u001b[1m5s\u001b[0m 14ms/step - accuracy: 0.6959 - loss: 0.5891 - val_accuracy: 0.6897 - val_loss: 0.5968 - learning_rate: 3.5840e-04\n",
      "Epoch 37/125\n",
      "\u001b[1m384/384\u001b[0m \u001b[32m━━━━━━━━━━━━━━━━━━━━\u001b[0m\u001b[37m\u001b[0m \u001b[1m5s\u001b[0m 13ms/step - accuracy: 0.6901 - loss: 0.5848 - val_accuracy: 0.6688 - val_loss: 0.6060 - learning_rate: 3.5840e-04\n",
      "Epoch 38/125\n",
      "\u001b[1m382/384\u001b[0m \u001b[32m━━━━━━━━━━━━━━━━━━━\u001b[0m\u001b[37m━\u001b[0m \u001b[1m0s\u001b[0m 12ms/step - accuracy: 0.6939 - loss: 0.5863\n",
      "Epoch 38: ReduceLROnPlateau reducing learning rate to 0.0002867199946194887.\n",
      "\u001b[1m384/384\u001b[0m \u001b[32m━━━━━━━━━━━━━━━━━━━━\u001b[0m\u001b[37m\u001b[0m \u001b[1m5s\u001b[0m 13ms/step - accuracy: 0.6939 - loss: 0.5863 - val_accuracy: 0.6675 - val_loss: 0.6035 - learning_rate: 3.5840e-04\n",
      "Epoch 39/125\n",
      "\u001b[1m384/384\u001b[0m \u001b[32m━━━━━━━━━━━━━━━━━━━━\u001b[0m\u001b[37m\u001b[0m \u001b[1m5s\u001b[0m 13ms/step - accuracy: 0.6851 - loss: 0.5793 - val_accuracy: 0.6754 - val_loss: 0.6016 - learning_rate: 2.8672e-04\n",
      "Epoch 40/125\n",
      "\u001b[1m384/384\u001b[0m \u001b[32m━━━━━━━━━━━━━━━━━━━━\u001b[0m\u001b[37m\u001b[0m \u001b[1m5s\u001b[0m 13ms/step - accuracy: 0.6932 - loss: 0.5792 - val_accuracy: 0.6884 - val_loss: 0.6012 - learning_rate: 2.8672e-04\n",
      "Epoch 41/125\n",
      "\u001b[1m384/384\u001b[0m \u001b[32m━━━━━━━━━━━━━━━━━━━━\u001b[0m\u001b[37m\u001b[0m \u001b[1m5s\u001b[0m 13ms/step - accuracy: 0.6973 - loss: 0.5822 - val_accuracy: 0.6767 - val_loss: 0.6036 - learning_rate: 2.8672e-04\n",
      "Epoch 42/125\n",
      "\u001b[1m384/384\u001b[0m \u001b[32m━━━━━━━━━━━━━━━━━━━━\u001b[0m\u001b[37m\u001b[0m \u001b[1m5s\u001b[0m 13ms/step - accuracy: 0.6925 - loss: 0.5766 - val_accuracy: 0.6936 - val_loss: 0.6000 - learning_rate: 2.8672e-04\n",
      "Epoch 43/125\n",
      "\u001b[1m382/384\u001b[0m \u001b[32m━━━━━━━━━━━━━━━━━━━\u001b[0m\u001b[37m━\u001b[0m \u001b[1m0s\u001b[0m 12ms/step - accuracy: 0.6943 - loss: 0.5771\n",
      "Epoch 43: ReduceLROnPlateau reducing learning rate to 0.00022937599569559098.\n",
      "\u001b[1m384/384\u001b[0m \u001b[32m━━━━━━━━━━━━━━━━━━━━\u001b[0m\u001b[37m\u001b[0m \u001b[1m5s\u001b[0m 14ms/step - accuracy: 0.6943 - loss: 0.5771 - val_accuracy: 0.6767 - val_loss: 0.6017 - learning_rate: 2.8672e-04\n"
     ]
    }
   ],
   "source": [
    "history = model.fit(\n",
    "                    X_train_new , \n",
    "                    y_train_new , \n",
    "                    batch_size = 8 , \n",
    "                    epochs = 125 , \n",
    "                    validation_split = 0.2 , \n",
    "                    callbacks = [lr_scheduler , Es]\n",
    ")"
   ]
  },
  {
   "cell_type": "markdown",
   "id": "971b95a4",
   "metadata": {
    "papermill": {
     "duration": 0.147965,
     "end_time": "2025-04-23T00:41:23.313515",
     "exception": false,
     "start_time": "2025-04-23T00:41:23.165550",
     "status": "completed"
    },
    "tags": []
   },
   "source": [
    "# Evaluation"
   ]
  },
  {
   "cell_type": "code",
   "execution_count": 33,
   "id": "2152e7e7",
   "metadata": {
    "execution": {
     "iopub.execute_input": "2025-04-23T00:41:23.660495Z",
     "iopub.status.busy": "2025-04-23T00:41:23.660217Z",
     "iopub.status.idle": "2025-04-23T00:41:23.663924Z",
     "shell.execute_reply": "2025-04-23T00:41:23.663167Z"
    },
    "papermill": {
     "duration": 0.20562,
     "end_time": "2025-04-23T00:41:23.665114",
     "exception": false,
     "start_time": "2025-04-23T00:41:23.459494",
     "status": "completed"
    },
    "tags": []
   },
   "outputs": [],
   "source": [
    "import matplotlib.pyplot as plt"
   ]
  },
  {
   "cell_type": "code",
   "execution_count": 34,
   "id": "260caaa1",
   "metadata": {
    "execution": {
     "iopub.execute_input": "2025-04-23T00:41:23.958252Z",
     "iopub.status.busy": "2025-04-23T00:41:23.957974Z",
     "iopub.status.idle": "2025-04-23T00:41:24.306682Z",
     "shell.execute_reply": "2025-04-23T00:41:24.306005Z"
    },
    "papermill": {
     "duration": 0.497525,
     "end_time": "2025-04-23T00:41:24.308197",
     "exception": false,
     "start_time": "2025-04-23T00:41:23.810672",
     "status": "completed"
    },
    "tags": []
   },
   "outputs": [
    {
     "data": {
      "image/png": "[encoded data removed]",
      "text/plain": [
       "<Figure size 1200x500 with 2 Axes>"
      ]
     },
     "metadata": {},
     "output_type": "display_data"
    }
   ],
   "source": [
    "plt.figure(figsize=(12, 5))\n",
    "plt.subplot(1, 2, 1)\n",
    "plt.plot(history.history['accuracy'], label='Training Accuracy')\n",
    "plt.plot(history.history['val_accuracy'], label='Validation Accuracy')\n",
    "plt.title('Model Accuracy')\n",
    "plt.xlabel('Epoch')\n",
    "plt.ylabel('Accuracy')\n",
    "plt.legend(loc='lower right')\n",
    "\n",
    "\n",
    "plt.subplot(1, 2, 2)\n",
    "plt.plot(history.history['loss'], label='Training Loss')\n",
    "plt.plot(history.history['val_loss'], label='Validation Loss')\n",
    "plt.title('Model Loss')\n",
    "plt.xlabel('Epoch')\n",
    "plt.ylabel('Loss')\n",
    "plt.legend(loc='upper right')\n",
    "\n",
    "plt.show()"
   ]
  },
  {
   "cell_type": "markdown",
   "id": "45ce2d65",
   "metadata": {
    "papermill": {
     "duration": 0.144179,
     "end_time": "2025-04-23T00:41:24.598754",
     "exception": false,
     "start_time": "2025-04-23T00:41:24.454575",
     "status": "completed"
    },
    "tags": []
   },
   "source": [
    "### Confusion Matrix"
   ]
  },
  {
   "cell_type": "code",
   "execution_count": 35,
   "id": "d9ee63ce",
   "metadata": {
    "execution": {
     "iopub.execute_input": "2025-04-23T00:41:24.890236Z",
     "iopub.status.busy": "2025-04-23T00:41:24.889322Z",
     "iopub.status.idle": "2025-04-23T00:41:24.892933Z",
     "shell.execute_reply": "2025-04-23T00:41:24.892391Z"
    },
    "papermill": {
     "duration": 0.15133,
     "end_time": "2025-04-23T00:41:24.894040",
     "exception": false,
     "start_time": "2025-04-23T00:41:24.742710",
     "status": "completed"
    },
    "tags": []
   },
   "outputs": [],
   "source": [
    "from sklearn.metrics import confusion_matrix, ConfusionMatrixDisplay"
   ]
  },
  {
   "cell_type": "code",
   "execution_count": 36,
   "id": "db58eadc",
   "metadata": {
    "execution": {
     "iopub.execute_input": "2025-04-23T00:41:25.232597Z",
     "iopub.status.busy": "2025-04-23T00:41:25.232035Z",
     "iopub.status.idle": "2025-04-23T00:41:27.232100Z",
     "shell.execute_reply": "2025-04-23T00:41:27.231416Z"
    },
    "papermill": {
     "duration": 2.193985,
     "end_time": "2025-04-23T00:41:27.233339",
     "exception": false,
     "start_time": "2025-04-23T00:41:25.039354",
     "status": "completed"
    },
    "tags": []
   },
   "outputs": [
    {
     "name": "stdout",
     "output_type": "stream",
     "text": [
      "\u001b[1m30/30\u001b[0m \u001b[32m━━━━━━━━━━━━━━━━━━━━\u001b[0m\u001b[37m\u001b[0m \u001b[1m2s\u001b[0m 38ms/step\n"
     ]
    },
    {
     "data": {
      "text/plain": [
       "<sklearn.metrics._plot.confusion_matrix.ConfusionMatrixDisplay at 0x7e62d4497bd0>"
      ]
     },
     "execution_count": 36,
     "metadata": {},
     "output_type": "execute_result"
    },
    {
     "data": {
      "image/png": "[encoded data removed]",
      "text/plain": [
       "<Figure size 640x480 with 2 Axes>"
      ]
     },
     "metadata": {},
     "output_type": "display_data"
    }
   ],
   "source": [
    "y_pred_probs = model.predict(x_test_new)\n",
    "\n",
    "y_pred = (y_pred_probs > 0.3).astype(int)  # False Negatives have a higher penalty\n",
    "\n",
    "cm = confusion_matrix(y_test_new, y_pred)\n",
    "\n",
    "disp = ConfusionMatrixDisplay(confusion_matrix=cm)\n",
    "disp.plot()"
   ]
  },
  {
   "cell_type": "markdown",
   "id": "ce709bc2",
   "metadata": {
    "papermill": {
     "duration": 0.145857,
     "end_time": "2025-04-23T00:41:27.529208",
     "exception": false,
     "start_time": "2025-04-23T00:41:27.383351",
     "status": "completed"
    },
    "tags": []
   },
   "source": [
    "### F2_Score"
   ]
  },
  {
   "cell_type": "code",
   "execution_count": 37,
   "id": "c44f60a8",
   "metadata": {
    "execution": {
     "iopub.execute_input": "2025-04-23T00:41:27.820471Z",
     "iopub.status.busy": "2025-04-23T00:41:27.820180Z",
     "iopub.status.idle": "2025-04-23T00:41:27.826981Z",
     "shell.execute_reply": "2025-04-23T00:41:27.826317Z"
    },
    "papermill": {
     "duration": 0.153639,
     "end_time": "2025-04-23T00:41:27.828103",
     "exception": false,
     "start_time": "2025-04-23T00:41:27.674464",
     "status": "completed"
    },
    "tags": []
   },
   "outputs": [
    {
     "name": "stdout",
     "output_type": "stream",
     "text": [
      "F2 Score: 0.7948615014050583\n"
     ]
    }
   ],
   "source": [
    "from sklearn.metrics import fbeta_score\n",
    "\n",
    "f2 = fbeta_score(y_test_new, y_pred, beta=2)\n",
    "print(\"F2 Score:\", f2)"
   ]
  },
  {
   "cell_type": "markdown",
   "id": "93e6b790",
   "metadata": {
    "papermill": {
     "duration": 0.146514,
     "end_time": "2025-04-23T00:41:28.121858",
     "exception": false,
     "start_time": "2025-04-23T00:41:27.975344",
     "status": "completed"
    },
    "tags": []
   },
   "source": [
    "### ROC "
   ]
  },
  {
   "cell_type": "code",
   "execution_count": 38,
   "id": "c37d20a4",
   "metadata": {
    "execution": {
     "iopub.execute_input": "2025-04-23T00:41:28.418741Z",
     "iopub.status.busy": "2025-04-23T00:41:28.418416Z",
     "iopub.status.idle": "2025-04-23T00:41:28.568074Z",
     "shell.execute_reply": "2025-04-23T00:41:28.567316Z"
    },
    "papermill": {
     "duration": 0.301241,
     "end_time": "2025-04-23T00:41:28.569362",
     "exception": false,
     "start_time": "2025-04-23T00:41:28.268121",
     "status": "completed"
    },
    "tags": []
   },
   "outputs": [
    {
     "data": {
      "image/png": "[encoded data removed]",
      "text/plain": [
       "<Figure size 600x600 with 1 Axes>"
      ]
     },
     "metadata": {},
     "output_type": "display_data"
    }
   ],
   "source": [
    "from sklearn.metrics import roc_curve, auc\n",
    "import matplotlib.pyplot as plt\n",
    "\n",
    "# Get FPR, TPR for different thresholds\n",
    "fpr, tpr, thresholds = roc_curve(y_test_new, y_pred_probs)\n",
    "\n",
    "# Calculate AUC\n",
    "roc_auc = auc(fpr, tpr)\n",
    "\n",
    "# Plot ROC\n",
    "plt.figure(figsize=(6,6))\n",
    "plt.plot(fpr, tpr, color='darkorange', lw=2, label='ROC Curve (AUC = %0.2f)' % roc_auc)\n",
    "plt.plot([0, 1], [0, 1], color='navy', lw=2, linestyle='--')  # Diagonal\n",
    "plt.xlabel('False Positive Rate')\n",
    "plt.ylabel('True Positive Rate')\n",
    "plt.title('Receiver Operating Characteristic')\n",
    "plt.legend(loc=\"lower right\")\n",
    "plt.grid()\n",
    "plt.show()\n"
   ]
  },
  {
   "cell_type": "code",
   "execution_count": 39,
   "id": "7fd0a41b",
   "metadata": {
    "execution": {
     "iopub.execute_input": "2025-04-23T00:41:28.919137Z",
     "iopub.status.busy": "2025-04-23T00:41:28.918443Z",
     "iopub.status.idle": "2025-04-23T00:41:29.175864Z",
     "shell.execute_reply": "2025-04-23T00:41:29.175206Z"
    },
    "papermill": {
     "duration": 0.455372,
     "end_time": "2025-04-23T00:41:29.177078",
     "exception": false,
     "start_time": "2025-04-23T00:41:28.721706",
     "status": "completed"
    },
    "tags": []
   },
   "outputs": [
    {
     "name": "stdout",
     "output_type": "stream",
     "text": [
      "\u001b[1m30/30\u001b[0m \u001b[32m━━━━━━━━━━━━━━━━━━━━\u001b[0m\u001b[37m\u001b[0m \u001b[1m0s\u001b[0m 6ms/step - accuracy: 0.6614 - loss: 0.5992\n"
     ]
    },
    {
     "data": {
      "text/plain": [
       "[0.5956705212593079, 0.6716899871826172]"
      ]
     },
     "execution_count": 39,
     "metadata": {},
     "output_type": "execute_result"
    }
   ],
   "source": [
    "model.evaluate(x_test_new , y_test_new)"
   ]
  },
  {
   "cell_type": "code",
   "execution_count": 40,
   "id": "3dca6e1a",
   "metadata": {
    "execution": {
     "iopub.execute_input": "2025-04-23T00:41:29.477414Z",
     "iopub.status.busy": "2025-04-23T00:41:29.477133Z",
     "iopub.status.idle": "2025-04-23T00:41:29.537787Z",
     "shell.execute_reply": "2025-04-23T00:41:29.537156Z"
    },
    "papermill": {
     "duration": 0.210748,
     "end_time": "2025-04-23T00:41:29.539097",
     "exception": false,
     "start_time": "2025-04-23T00:41:29.328349",
     "status": "completed"
    },
    "tags": []
   },
   "outputs": [],
   "source": [
    "model.save('RNN-Best.keras')"
   ]
  },
  {
   "cell_type": "markdown",
   "id": "432c7dd3",
   "metadata": {
    "papermill": {
     "duration": 0.150001,
     "end_time": "2025-04-23T00:41:29.838937",
     "exception": false,
     "start_time": "2025-04-23T00:41:29.688936",
     "status": "completed"
    },
    "tags": []
   },
   "source": [
    "### Playground"
   ]
  }
 ],
 "metadata": {
  "kaggle": {
   "accelerator": "gpu",
   "dataSources": [
    {
     "datasetId": 7190015,
     "sourceId": 11472726,
     "sourceType": "datasetVersion"
    },
    {
     "datasetId": 7225292,
     "sourceId": 11520608,
     "sourceType": "datasetVersion"
    }
   ],
   "dockerImageVersionId": 31012,
   "isGpuEnabled": true,
   "isInternetEnabled": true,
   "language": "python",
   "sourceType": "notebook"
  },
  "kernelspec": {
   "display_name": "Python 3",
   "language": "python",
   "name": "python3"
  },
  "language_info": {
   "codemirror_mode": {
    "name": "ipython",
    "version": 3
   },
   "file_extension": ".py",
   "mimetype": "text/x-python",
   "name": "python",
   "nbconvert_exporter": "python",
   "pygments_lexer": "ipython3",
   "version": "3.11.11"
  },
  "papermill": {
   "default_parameters": {},
   "duration": 265.365782,
   "end_time": "2025-04-23T00:41:32.942832",
   "environment_variables": {},
   "exception": null,
   "input_path": "__notebook__.ipynb",
   "output_path": "__notebook__.ipynb",
   "parameters": {},
   "start_time": "2025-04-23T00:37:07.577050",
   "version": "2.6.0"
  }
 },
 "nbformat": 4,
 "nbformat_minor": 5
}
