{
 "cells": [
  {
   "cell_type": "code",
   "execution_count": 1,
   "id": "3a525570",
   "metadata": {
    "execution": {
     "iopub.execute_input": "2025-04-25T11:55:39.228877Z",
     "iopub.status.busy": "2025-04-25T11:55:39.228566Z",
     "iopub.status.idle": "2025-04-25T11:55:39.236878Z",
     "shell.execute_reply": "2025-04-25T11:55:39.235599Z"
    },
    "papermill": {
     "duration": 0.019815,
     "end_time": "2025-04-25T11:55:39.238699",
     "exception": false,
     "start_time": "2025-04-25T11:55:39.218884",
     "status": "completed"
    },
    "tags": []
   },
   "outputs": [],
   "source": [
    "import warnings\n",
    "warnings.filterwarnings('ignore')"
   ]
  },
  {
   "cell_type": "code",
   "execution_count": 2,
   "id": "72d7e2cd",
   "metadata": {
    "_cell_guid": "b1076dfc-b9ad-4769-8c92-a6c4dae69d19",
    "_uuid": "8f2839f25d086af736a60e9eeb907d3b93b6e0e5",
    "execution": {
     "iopub.execute_input": "2025-04-25T11:55:39.255377Z",
     "iopub.status.busy": "2025-04-25T11:55:39.254999Z",
     "iopub.status.idle": "2025-04-25T11:55:41.375010Z",
     "shell.execute_reply": "2025-04-25T11:55:41.373949Z"
    },
    "papermill": {
     "duration": 2.130659,
     "end_time": "2025-04-25T11:55:41.377050",
     "exception": false,
     "start_time": "2025-04-25T11:55:39.246391",
     "status": "completed"
    },
    "tags": []
   },
   "outputs": [],
   "source": [
    "import pandas as pd\n",
    "import numpy as np\n",
    "import random"
   ]
  },
  {
   "cell_type": "code",
   "execution_count": 3,
   "id": "9f115d9a",
   "metadata": {
    "execution": {
     "iopub.execute_input": "2025-04-25T11:55:41.393869Z",
     "iopub.status.busy": "2025-04-25T11:55:41.393374Z",
     "iopub.status.idle": "2025-04-25T11:55:41.424314Z",
     "shell.execute_reply": "2025-04-25T11:55:41.423167Z"
    },
    "papermill": {
     "duration": 0.041903,
     "end_time": "2025-04-25T11:55:41.426437",
     "exception": false,
     "start_time": "2025-04-25T11:55:41.384534",
     "status": "completed"
    },
    "tags": []
   },
   "outputs": [],
   "source": [
    "df = pd.read_csv('/kaggle/input/mouse-behaviour/Mouse_data.csv')"
   ]
  },
  {
   "cell_type": "code",
   "execution_count": 4,
   "id": "e28a6d06",
   "metadata": {
    "execution": {
     "iopub.execute_input": "2025-04-25T11:55:41.442872Z",
     "iopub.status.busy": "2025-04-25T11:55:41.442570Z",
     "iopub.status.idle": "2025-04-25T11:55:41.470417Z",
     "shell.execute_reply": "2025-04-25T11:55:41.469332Z"
    },
    "papermill": {
     "duration": 0.038011,
     "end_time": "2025-04-25T11:55:41.472288",
     "exception": false,
     "start_time": "2025-04-25T11:55:41.434277",
     "status": "completed"
    },
    "tags": []
   },
   "outputs": [
    {
     "data": {
      "text/html": [
       "<div>\n",
       "<style scoped>\n",
       "    .dataframe tbody tr th:only-of-type {\n",
       "        vertical-align: middle;\n",
       "    }\n",
       "\n",
       "    .dataframe tbody tr th {\n",
       "        vertical-align: top;\n",
       "    }\n",
       "\n",
       "    .dataframe thead th {\n",
       "        text-align: right;\n",
       "    }\n",
       "</style>\n",
       "<table border=\"1\" class=\"dataframe\">\n",
       "  <thead>\n",
       "    <tr style=\"text-align: right;\">\n",
       "      <th></th>\n",
       "      <th>timestamp</th>\n",
       "      <th>x</th>\n",
       "      <th>y</th>\n",
       "      <th>isClick</th>\n",
       "      <th>isConfused</th>\n",
       "    </tr>\n",
       "  </thead>\n",
       "  <tbody>\n",
       "    <tr>\n",
       "      <th>0</th>\n",
       "      <td>50</td>\n",
       "      <td>0</td>\n",
       "      <td>0</td>\n",
       "      <td>0</td>\n",
       "      <td>0</td>\n",
       "    </tr>\n",
       "    <tr>\n",
       "      <th>1</th>\n",
       "      <td>100</td>\n",
       "      <td>0</td>\n",
       "      <td>0</td>\n",
       "      <td>0</td>\n",
       "      <td>0</td>\n",
       "    </tr>\n",
       "    <tr>\n",
       "      <th>2</th>\n",
       "      <td>150</td>\n",
       "      <td>0</td>\n",
       "      <td>0</td>\n",
       "      <td>0</td>\n",
       "      <td>0</td>\n",
       "    </tr>\n",
       "    <tr>\n",
       "      <th>3</th>\n",
       "      <td>200</td>\n",
       "      <td>0</td>\n",
       "      <td>0</td>\n",
       "      <td>0</td>\n",
       "      <td>0</td>\n",
       "    </tr>\n",
       "    <tr>\n",
       "      <th>4</th>\n",
       "      <td>250</td>\n",
       "      <td>0</td>\n",
       "      <td>0</td>\n",
       "      <td>0</td>\n",
       "      <td>0</td>\n",
       "    </tr>\n",
       "  </tbody>\n",
       "</table>\n",
       "</div>"
      ],
      "text/plain": [
       "   timestamp  x  y  isClick  isConfused\n",
       "0         50  0  0        0           0\n",
       "1        100  0  0        0           0\n",
       "2        150  0  0        0           0\n",
       "3        200  0  0        0           0\n",
       "4        250  0  0        0           0"
      ]
     },
     "execution_count": 4,
     "metadata": {},
     "output_type": "execute_result"
    }
   ],
   "source": [
    "df.head()"
   ]
  },
  {
   "cell_type": "markdown",
   "id": "489fa53b",
   "metadata": {
    "papermill": {
     "duration": 0.007034,
     "end_time": "2025-04-25T11:55:41.487173",
     "exception": false,
     "start_time": "2025-04-25T11:55:41.480139",
     "status": "completed"
    },
    "tags": []
   },
   "source": [
    "# Feature engineering"
   ]
  },
  {
   "cell_type": "code",
   "execution_count": 5,
   "id": "645b6e87",
   "metadata": {
    "execution": {
     "iopub.execute_input": "2025-04-25T11:55:41.503271Z",
     "iopub.status.busy": "2025-04-25T11:55:41.502932Z",
     "iopub.status.idle": "2025-04-25T11:55:41.510491Z",
     "shell.execute_reply": "2025-04-25T11:55:41.509468Z"
    },
    "papermill": {
     "duration": 0.017536,
     "end_time": "2025-04-25T11:55:41.512317",
     "exception": false,
     "start_time": "2025-04-25T11:55:41.494781",
     "status": "completed"
    },
    "tags": []
   },
   "outputs": [],
   "source": [
    "def calculate_angle(x1, y1, x2, y2, x3, y3):\n",
    "    v1 = [x2 - x1, y2 - y1]\n",
    "    v2 = [x3 - x2, y3 - y2]\n",
    "    dot = v1[0]*v2[0] + v1[1]*v2[1]\n",
    "    mag1 = np.sqrt(v1[0]**2 + v1[1]**2)\n",
    "    mag2 = np.sqrt(v2[0]**2 + v2[1]**2)\n",
    "    \n",
    "    if mag1 == 0 or mag2 == 0:\n",
    "        return 0.0\n",
    "\n",
    "    cos_theta = np.clip(dot / (mag1 * mag2), -1.0, 1.0)\n",
    "    angle = np.degrees(np.arccos(cos_theta))\n",
    "    return angle"
   ]
  },
  {
   "cell_type": "code",
   "execution_count": 6,
   "id": "9ac0e146",
   "metadata": {
    "execution": {
     "iopub.execute_input": "2025-04-25T11:55:41.529632Z",
     "iopub.status.busy": "2025-04-25T11:55:41.529309Z",
     "iopub.status.idle": "2025-04-25T11:55:41.536575Z",
     "shell.execute_reply": "2025-04-25T11:55:41.535263Z"
    },
    "papermill": {
     "duration": 0.018906,
     "end_time": "2025-04-25T11:55:41.538486",
     "exception": false,
     "start_time": "2025-04-25T11:55:41.519580",
     "status": "completed"
    },
    "tags": []
   },
   "outputs": [],
   "source": [
    "def label_angle(angle):\n",
    "    if np.isnan(angle):   \n",
    "        return 0\n",
    "    if angle < 30:\n",
    "        return 0\n",
    "    elif angle < 60:\n",
    "        return 1\n",
    "    elif angle < 90:\n",
    "        return 2\n",
    "    elif angle < 120:\n",
    "        return 3\n",
    "    elif angle < 150:\n",
    "        return 4\n",
    "    else:\n",
    "        return 5"
   ]
  },
  {
   "cell_type": "code",
   "execution_count": 7,
   "id": "84db3789",
   "metadata": {
    "execution": {
     "iopub.execute_input": "2025-04-25T11:55:41.554403Z",
     "iopub.status.busy": "2025-04-25T11:55:41.554052Z",
     "iopub.status.idle": "2025-04-25T11:55:41.563953Z",
     "shell.execute_reply": "2025-04-25T11:55:41.562687Z"
    },
    "papermill": {
     "duration": 0.019692,
     "end_time": "2025-04-25T11:55:41.565564",
     "exception": false,
     "start_time": "2025-04-25T11:55:41.545872",
     "status": "completed"
    },
    "tags": []
   },
   "outputs": [],
   "source": [
    "def extract_features(extracted, time_diff=0.05):\n",
    "\n",
    "    \n",
    "    # 1. Initialize new columns\n",
    "    extracted['distance_covered'] = 0.0\n",
    "    extracted['idle_time'] = 0.0\n",
    "\n",
    "    # 2. Initialize path tracking variables\n",
    "    path_accumulator = 0.0\n",
    "\n",
    "\n",
    "    # 3. Loop through data\n",
    "    \n",
    "    for i in range(1, len(extracted)):\n",
    "        \n",
    "        # Distance between two points\n",
    "        dx = extracted.loc[i, 'x'] - extracted.loc[i-1, 'x']\n",
    "        dy = extracted.loc[i, 'y'] - extracted.loc[i-1, 'y']\n",
    "        distance = np.sqrt(dx**2 + dy**2)\n",
    "        extracted.loc[i, 'distance_covered'] = distance\n",
    "\n",
    "        # Idle time\n",
    "        if extracted.loc[i, 'x'] == extracted.loc[i-1, 'x'] and extracted.loc[i, 'y'] == extracted.loc[i-1, 'y']:\n",
    "            extracted.loc[i, 'idle_time'] = extracted.loc[i-1, 'idle_time'] + time_diff\n",
    "        else:\n",
    "            extracted.loc[i, 'idle_time'] = 0.0\n",
    "\n",
    "\n",
    "\n",
    "    # 4. Cursor speed\n",
    "    extracted['cursor_speed'] = extracted['distance_covered'] / time_diff\n",
    "    # 5. Acceleration\n",
    "    extracted['acceleration'] = extracted['cursor_speed'] / time_diff\n",
    "    # 6. Movement angles\n",
    "    angles = []\n",
    "    for i in range(1, len(extracted) - 1):\n",
    "        angle = calculate_angle(\n",
    "            extracted.loc[i-1, 'x'], extracted.loc[i-1, 'y'],\n",
    "            extracted.loc[i, 'x'], extracted.loc[i, 'y'],\n",
    "            extracted.loc[i+1, 'x'], extracted.loc[i+1, 'y']\n",
    "        )\n",
    "        angles.append(angle)\n",
    "\n",
    "    # Drop first and last row (lost after angle calculation)\n",
    "    extracted = extracted.iloc[1:-1].copy()\n",
    "    extracted['movement_angle'] = angles\n",
    "    extracted['prev_movement_angle'] = [0] + angles[1:] \n",
    "\n",
    "    # 7. Label angles\n",
    "    extracted['angle_label'] = extracted['movement_angle'].apply(label_angle)\n",
    "    # 8. prev angle label\n",
    "\n",
    "    extracted['prev_angle_label'] = extracted['prev_movement_angle'].apply(label_angle)\n",
    "    return extracted"
   ]
  },
  {
   "cell_type": "code",
   "execution_count": 8,
   "id": "2e6ee438",
   "metadata": {
    "execution": {
     "iopub.execute_input": "2025-04-25T11:55:41.581960Z",
     "iopub.status.busy": "2025-04-25T11:55:41.581441Z",
     "iopub.status.idle": "2025-04-25T11:55:44.202507Z",
     "shell.execute_reply": "2025-04-25T11:55:44.201437Z"
    },
    "papermill": {
     "duration": 2.631262,
     "end_time": "2025-04-25T11:55:44.204508",
     "exception": false,
     "start_time": "2025-04-25T11:55:41.573246",
     "status": "completed"
    },
    "tags": []
   },
   "outputs": [],
   "source": [
    "extracted = extract_features(df, time_diff=0.05)"
   ]
  },
  {
   "cell_type": "code",
   "execution_count": 9,
   "id": "2e80cc8a",
   "metadata": {
    "execution": {
     "iopub.execute_input": "2025-04-25T11:55:44.220976Z",
     "iopub.status.busy": "2025-04-25T11:55:44.220663Z",
     "iopub.status.idle": "2025-04-25T11:55:44.232091Z",
     "shell.execute_reply": "2025-04-25T11:55:44.231179Z"
    },
    "papermill": {
     "duration": 0.021743,
     "end_time": "2025-04-25T11:55:44.234166",
     "exception": false,
     "start_time": "2025-04-25T11:55:44.212423",
     "status": "completed"
    },
    "tags": []
   },
   "outputs": [
    {
     "data": {
      "text/plain": [
       "timestamp              0\n",
       "x                      0\n",
       "y                      0\n",
       "isClick                0\n",
       "isConfused             0\n",
       "distance_covered       0\n",
       "idle_time              0\n",
       "cursor_speed           0\n",
       "acceleration           0\n",
       "movement_angle         0\n",
       "prev_movement_angle    0\n",
       "angle_label            0\n",
       "prev_angle_label       0\n",
       "dtype: int64"
      ]
     },
     "execution_count": 9,
     "metadata": {},
     "output_type": "execute_result"
    }
   ],
   "source": [
    "extracted.isnull().sum()"
   ]
  },
  {
   "cell_type": "markdown",
   "id": "7c796330",
   "metadata": {
    "papermill": {
     "duration": 0.006859,
     "end_time": "2025-04-25T11:55:44.248414",
     "exception": false,
     "start_time": "2025-04-25T11:55:44.241555",
     "status": "completed"
    },
    "tags": []
   },
   "source": [
    "**Precision is the ratio between the shortest distance between two correct clicks and the actual path**"
   ]
  },
  {
   "cell_type": "markdown",
   "id": "118ed8ca",
   "metadata": {
    "papermill": {
     "duration": 0.006855,
     "end_time": "2025-04-25T11:55:44.262462",
     "exception": false,
     "start_time": "2025-04-25T11:55:44.255607",
     "status": "completed"
    },
    "tags": []
   },
   "source": [
    "**studies tell that the cursor speed gets slower on confusion and/or frustration**"
   ]
  },
  {
   "cell_type": "markdown",
   "id": "4160120d",
   "metadata": {
    "papermill": {
     "duration": 0.007172,
     "end_time": "2025-04-25T11:55:44.277122",
     "exception": false,
     "start_time": "2025-04-25T11:55:44.269950",
     "status": "completed"
    },
    "tags": []
   },
   "source": [
    "to be done: normalization, splitting, model, validation, ROC, confusion, f2_score"
   ]
  },
  {
   "cell_type": "markdown",
   "id": "a6206527",
   "metadata": {
    "papermill": {
     "duration": 0.006855,
     "end_time": "2025-04-25T11:55:44.291246",
     "exception": false,
     "start_time": "2025-04-25T11:55:44.284391",
     "status": "completed"
    },
    "tags": []
   },
   "source": [
    "# Preprocessing and model"
   ]
  },
  {
   "cell_type": "code",
   "execution_count": 10,
   "id": "7ed473e0",
   "metadata": {
    "execution": {
     "iopub.execute_input": "2025-04-25T11:55:44.308028Z",
     "iopub.status.busy": "2025-04-25T11:55:44.307689Z",
     "iopub.status.idle": "2025-04-25T11:55:46.088734Z",
     "shell.execute_reply": "2025-04-25T11:55:46.087426Z"
    },
    "papermill": {
     "duration": 1.791752,
     "end_time": "2025-04-25T11:55:46.090740",
     "exception": false,
     "start_time": "2025-04-25T11:55:44.298988",
     "status": "completed"
    },
    "tags": []
   },
   "outputs": [],
   "source": [
    "from sklearn.preprocessing import StandardScaler\n",
    "from sklearn.model_selection import train_test_split"
   ]
  },
  {
   "cell_type": "code",
   "execution_count": 11,
   "id": "6604ecb6",
   "metadata": {
    "execution": {
     "iopub.execute_input": "2025-04-25T11:55:46.110820Z",
     "iopub.status.busy": "2025-04-25T11:55:46.109728Z",
     "iopub.status.idle": "2025-04-25T11:55:46.115195Z",
     "shell.execute_reply": "2025-04-25T11:55:46.114125Z"
    },
    "papermill": {
     "duration": 0.016552,
     "end_time": "2025-04-25T11:55:46.116947",
     "exception": false,
     "start_time": "2025-04-25T11:55:46.100395",
     "status": "completed"
    },
    "tags": []
   },
   "outputs": [],
   "source": [
    "scaler = StandardScaler()"
   ]
  },
  {
   "cell_type": "markdown",
   "id": "fd915c4f",
   "metadata": {
    "papermill": {
     "duration": 0.007129,
     "end_time": "2025-04-25T11:55:46.131392",
     "exception": false,
     "start_time": "2025-04-25T11:55:46.124263",
     "status": "completed"
    },
    "tags": []
   },
   "source": [
    "#### movement_angle to be dropped (if needed)"
   ]
  },
  {
   "cell_type": "code",
   "execution_count": 12,
   "id": "aad2918e",
   "metadata": {
    "execution": {
     "iopub.execute_input": "2025-04-25T11:55:46.214393Z",
     "iopub.status.busy": "2025-04-25T11:55:46.214008Z",
     "iopub.status.idle": "2025-04-25T11:55:46.228648Z",
     "shell.execute_reply": "2025-04-25T11:55:46.227650Z"
    },
    "papermill": {
     "duration": 0.092128,
     "end_time": "2025-04-25T11:55:46.230486",
     "exception": false,
     "start_time": "2025-04-25T11:55:46.138358",
     "status": "completed"
    },
    "tags": []
   },
   "outputs": [],
   "source": [
    "x_train = extracted.drop('isConfused' , axis = 1)\n",
    "y_train = extracted['isConfused']"
   ]
  },
  {
   "cell_type": "code",
   "execution_count": 13,
   "id": "49167216",
   "metadata": {
    "execution": {
     "iopub.execute_input": "2025-04-25T11:55:46.247311Z",
     "iopub.status.busy": "2025-04-25T11:55:46.246191Z",
     "iopub.status.idle": "2025-04-25T11:55:46.251050Z",
     "shell.execute_reply": "2025-04-25T11:55:46.250161Z"
    },
    "papermill": {
     "duration": 0.014752,
     "end_time": "2025-04-25T11:55:46.252725",
     "exception": false,
     "start_time": "2025-04-25T11:55:46.237973",
     "status": "completed"
    },
    "tags": []
   },
   "outputs": [],
   "source": [
    "# X_train , X_test , y_train , y_test = train_test_split(x_train , y_train , random_state = 42  , test_size = 0.2)"
   ]
  },
  {
   "cell_type": "code",
   "execution_count": 14,
   "id": "8be2fecd",
   "metadata": {
    "execution": {
     "iopub.execute_input": "2025-04-25T11:55:46.269100Z",
     "iopub.status.busy": "2025-04-25T11:55:46.268656Z",
     "iopub.status.idle": "2025-04-25T11:55:46.278459Z",
     "shell.execute_reply": "2025-04-25T11:55:46.277427Z"
    },
    "papermill": {
     "duration": 0.01992,
     "end_time": "2025-04-25T11:55:46.280226",
     "exception": false,
     "start_time": "2025-04-25T11:55:46.260306",
     "status": "completed"
    },
    "tags": []
   },
   "outputs": [],
   "source": [
    "X_train , X_test , y_train , y_test = train_test_split(x_train , y_train , random_state = 42  , test_size = 0.2)"
   ]
  },
  {
   "cell_type": "code",
   "execution_count": 15,
   "id": "5b351637",
   "metadata": {
    "execution": {
     "iopub.execute_input": "2025-04-25T11:55:46.297204Z",
     "iopub.status.busy": "2025-04-25T11:55:46.296827Z",
     "iopub.status.idle": "2025-04-25T11:55:46.323324Z",
     "shell.execute_reply": "2025-04-25T11:55:46.322319Z"
    },
    "papermill": {
     "duration": 0.03728,
     "end_time": "2025-04-25T11:55:46.325172",
     "exception": false,
     "start_time": "2025-04-25T11:55:46.287892",
     "status": "completed"
    },
    "tags": []
   },
   "outputs": [],
   "source": [
    "x_train_scaled = scaler.fit_transform(X_train)\n",
    "x_test_scaled = scaler.transform(X_test)"
   ]
  },
  {
   "cell_type": "markdown",
   "id": "f05dc0f0",
   "metadata": {
    "papermill": {
     "duration": 0.007827,
     "end_time": "2025-04-25T11:55:46.340318",
     "exception": false,
     "start_time": "2025-04-25T11:55:46.332491",
     "status": "completed"
    },
    "tags": []
   },
   "source": [
    "##### try with LR , randomforest , SVM"
   ]
  },
  {
   "cell_type": "code",
   "execution_count": 16,
   "id": "0225a32d",
   "metadata": {
    "execution": {
     "iopub.execute_input": "2025-04-25T11:55:46.356406Z",
     "iopub.status.busy": "2025-04-25T11:55:46.356010Z",
     "iopub.status.idle": "2025-04-25T11:55:46.773820Z",
     "shell.execute_reply": "2025-04-25T11:55:46.772223Z"
    },
    "papermill": {
     "duration": 0.428527,
     "end_time": "2025-04-25T11:55:46.776077",
     "exception": false,
     "start_time": "2025-04-25T11:55:46.347550",
     "status": "completed"
    },
    "tags": []
   },
   "outputs": [],
   "source": [
    "from sklearn.svm import SVC\n",
    "from sklearn.pipeline import make_pipeline\n",
    "from sklearn.linear_model import LogisticRegression\n",
    "from xgboost import XGBClassifier\n",
    "from sklearn.metrics import accuracy_score"
   ]
  },
  {
   "cell_type": "code",
   "execution_count": 17,
   "id": "4aa53ccc",
   "metadata": {
    "execution": {
     "iopub.execute_input": "2025-04-25T11:55:46.793986Z",
     "iopub.status.busy": "2025-04-25T11:55:46.793647Z",
     "iopub.status.idle": "2025-04-25T11:55:46.798307Z",
     "shell.execute_reply": "2025-04-25T11:55:46.797442Z"
    },
    "papermill": {
     "duration": 0.01577,
     "end_time": "2025-04-25T11:55:46.799871",
     "exception": false,
     "start_time": "2025-04-25T11:55:46.784101",
     "status": "completed"
    },
    "tags": []
   },
   "outputs": [],
   "source": [
    "log_r = LogisticRegression(random_state = 42 , max_iter = 150 , verbose = 1)"
   ]
  },
  {
   "cell_type": "code",
   "execution_count": 18,
   "id": "95bb5a2b",
   "metadata": {
    "execution": {
     "iopub.execute_input": "2025-04-25T11:55:46.815967Z",
     "iopub.status.busy": "2025-04-25T11:55:46.815589Z",
     "iopub.status.idle": "2025-04-25T11:55:46.820222Z",
     "shell.execute_reply": "2025-04-25T11:55:46.819181Z"
    },
    "papermill": {
     "duration": 0.014426,
     "end_time": "2025-04-25T11:55:46.821792",
     "exception": false,
     "start_time": "2025-04-25T11:55:46.807366",
     "status": "completed"
    },
    "tags": []
   },
   "outputs": [],
   "source": [
    "svm = make_pipeline(StandardScaler(), SVC(gamma='auto'))"
   ]
  },
  {
   "cell_type": "code",
   "execution_count": 19,
   "id": "58a5f39e",
   "metadata": {
    "execution": {
     "iopub.execute_input": "2025-04-25T11:55:46.838237Z",
     "iopub.status.busy": "2025-04-25T11:55:46.837845Z",
     "iopub.status.idle": "2025-04-25T11:55:46.843579Z",
     "shell.execute_reply": "2025-04-25T11:55:46.842240Z"
    },
    "papermill": {
     "duration": 0.015948,
     "end_time": "2025-04-25T11:55:46.845443",
     "exception": false,
     "start_time": "2025-04-25T11:55:46.829495",
     "status": "completed"
    },
    "tags": []
   },
   "outputs": [],
   "source": [
    "xgb = XGBClassifier(\n",
    "    n_estimators=100,\n",
    "    max_depth=4,\n",
    "    learning_rate=0.1,\n",
    "    subsample=0.8,\n",
    "    colsample_bytree=0.8,\n",
    "    gamma=0,\n",
    "    reg_alpha=0,\n",
    "    reg_lambda=1,\n",
    "    random_state=42,\n",
    "    use_label_encoder=False,\n",
    "    # eval_metric='logloss'  \n",
    ")\n"
   ]
  },
  {
   "cell_type": "code",
   "execution_count": 20,
   "id": "db852294",
   "metadata": {
    "execution": {
     "iopub.execute_input": "2025-04-25T11:55:46.862099Z",
     "iopub.status.busy": "2025-04-25T11:55:46.861676Z",
     "iopub.status.idle": "2025-04-25T11:55:46.942982Z",
     "shell.execute_reply": "2025-04-25T11:55:46.940420Z"
    },
    "papermill": {
     "duration": 0.092008,
     "end_time": "2025-04-25T11:55:46.944943",
     "exception": false,
     "start_time": "2025-04-25T11:55:46.852935",
     "status": "completed"
    },
    "tags": []
   },
   "outputs": [
    {
     "data": {
      "text/html": [
       "<style>#sk-container-id-1 {color: black;background-color: white;}#sk-container-id-1 pre{padding: 0;}#sk-container-id-1 div.sk-toggleable {background-color: white;}#sk-container-id-1 label.sk-toggleable__label {cursor: pointer;display: block;width: 100%;margin-bottom: 0;padding: 0.3em;box-sizing: border-box;text-align: center;}#sk-container-id-1 label.sk-toggleable__label-arrow:before {content: \"▸\";float: left;margin-right: 0.25em;color: #696969;}#sk-container-id-1 label.sk-toggleable__label-arrow:hover:before {color: black;}#sk-container-id-1 div.sk-estimator:hover label.sk-toggleable__label-arrow:before {color: black;}#sk-container-id-1 div.sk-toggleable__content {max-height: 0;max-width: 0;overflow: hidden;text-align: left;background-color: #f0f8ff;}#sk-container-id-1 div.sk-toggleable__content pre {margin: 0.2em;color: black;border-radius: 0.25em;background-color: #f0f8ff;}#sk-container-id-1 input.sk-toggleable__control:checked~div.sk-toggleable__content {max-height: 200px;max-width: 100%;overflow: auto;}#sk-container-id-1 input.sk-toggleable__control:checked~label.sk-toggleable__label-arrow:before {content: \"▾\";}#sk-container-id-1 div.sk-estimator input.sk-toggleable__control:checked~label.sk-toggleable__label {background-color: #d4ebff;}#sk-container-id-1 div.sk-label input.sk-toggleable__control:checked~label.sk-toggleable__label {background-color: #d4ebff;}#sk-container-id-1 input.sk-hidden--visually {border: 0;clip: rect(1px 1px 1px 1px);clip: rect(1px, 1px, 1px, 1px);height: 1px;margin: -1px;overflow: hidden;padding: 0;position: absolute;width: 1px;}#sk-container-id-1 div.sk-estimator {font-family: monospace;background-color: #f0f8ff;border: 1px dotted black;border-radius: 0.25em;box-sizing: border-box;margin-bottom: 0.5em;}#sk-container-id-1 div.sk-estimator:hover {background-color: #d4ebff;}#sk-container-id-1 div.sk-parallel-item::after {content: \"\";width: 100%;border-bottom: 1px solid gray;flex-grow: 1;}#sk-container-id-1 div.sk-label:hover label.sk-toggleable__label {background-color: #d4ebff;}#sk-container-id-1 div.sk-serial::before {content: \"\";position: absolute;border-left: 1px solid gray;box-sizing: border-box;top: 0;bottom: 0;left: 50%;z-index: 0;}#sk-container-id-1 div.sk-serial {display: flex;flex-direction: column;align-items: center;background-color: white;padding-right: 0.2em;padding-left: 0.2em;position: relative;}#sk-container-id-1 div.sk-item {position: relative;z-index: 1;}#sk-container-id-1 div.sk-parallel {display: flex;align-items: stretch;justify-content: center;background-color: white;position: relative;}#sk-container-id-1 div.sk-item::before, #sk-container-id-1 div.sk-parallel-item::before {content: \"\";position: absolute;border-left: 1px solid gray;box-sizing: border-box;top: 0;bottom: 0;left: 50%;z-index: -1;}#sk-container-id-1 div.sk-parallel-item {display: flex;flex-direction: column;z-index: 1;position: relative;background-color: white;}#sk-container-id-1 div.sk-parallel-item:first-child::after {align-self: flex-end;width: 50%;}#sk-container-id-1 div.sk-parallel-item:last-child::after {align-self: flex-start;width: 50%;}#sk-container-id-1 div.sk-parallel-item:only-child::after {width: 0;}#sk-container-id-1 div.sk-dashed-wrapped {border: 1px dashed gray;margin: 0 0.4em 0.5em 0.4em;box-sizing: border-box;padding-bottom: 0.4em;background-color: white;}#sk-container-id-1 div.sk-label label {font-family: monospace;font-weight: bold;display: inline-block;line-height: 1.2em;}#sk-container-id-1 div.sk-label-container {text-align: center;}#sk-container-id-1 div.sk-container {/* jupyter's `normalize.less` sets `[hidden] { display: none; }` but bootstrap.min.css set `[hidden] { display: none !important; }` so we also need the `!important` here to be able to override the default hidden behavior on the sphinx rendered scikit-learn.org. See: https://github.com/scikit-learn/scikit-learn/issues/21755 */display: inline-block !important;position: relative;}#sk-container-id-1 div.sk-text-repr-fallback {display: none;}</style><div id=\"sk-container-id-1\" class=\"sk-top-container\"><div class=\"sk-text-repr-fallback\"><pre>LogisticRegression(max_iter=150, random_state=42, verbose=1)</pre><b>In a Jupyter environment, please rerun this cell to show the HTML representation or trust the notebook. <br />On GitHub, the HTML representation is unable to render, please try loading this page with nbviewer.org.</b></div><div class=\"sk-container\" hidden><div class=\"sk-item\"><div class=\"sk-estimator sk-toggleable\"><input class=\"sk-toggleable__control sk-hidden--visually\" id=\"sk-estimator-id-1\" type=\"checkbox\" checked><label for=\"sk-estimator-id-1\" class=\"sk-toggleable__label sk-toggleable__label-arrow\">LogisticRegression</label><div class=\"sk-toggleable__content\"><pre>LogisticRegression(max_iter=150, random_state=42, verbose=1)</pre></div></div></div></div></div>"
      ],
      "text/plain": [
       "LogisticRegression(max_iter=150, random_state=42, verbose=1)"
      ]
     },
     "execution_count": 20,
     "metadata": {},
     "output_type": "execute_result"
    }
   ],
   "source": [
    "log_r.fit(x_train_scaled , y_train)"
   ]
  },
  {
   "cell_type": "code",
   "execution_count": 21,
   "id": "0de3366e",
   "metadata": {
    "execution": {
     "iopub.execute_input": "2025-04-25T11:55:46.974219Z",
     "iopub.status.busy": "2025-04-25T11:55:46.973824Z",
     "iopub.status.idle": "2025-04-25T11:55:47.572126Z",
     "shell.execute_reply": "2025-04-25T11:55:47.571268Z"
    },
    "papermill": {
     "duration": 0.614516,
     "end_time": "2025-04-25T11:55:47.573559",
     "exception": false,
     "start_time": "2025-04-25T11:55:46.959043",
     "status": "completed"
    },
    "tags": []
   },
   "outputs": [
    {
     "data": {
      "text/html": [
       "<style>#sk-container-id-2 {color: black;background-color: white;}#sk-container-id-2 pre{padding: 0;}#sk-container-id-2 div.sk-toggleable {background-color: white;}#sk-container-id-2 label.sk-toggleable__label {cursor: pointer;display: block;width: 100%;margin-bottom: 0;padding: 0.3em;box-sizing: border-box;text-align: center;}#sk-container-id-2 label.sk-toggleable__label-arrow:before {content: \"▸\";float: left;margin-right: 0.25em;color: #696969;}#sk-container-id-2 label.sk-toggleable__label-arrow:hover:before {color: black;}#sk-container-id-2 div.sk-estimator:hover label.sk-toggleable__label-arrow:before {color: black;}#sk-container-id-2 div.sk-toggleable__content {max-height: 0;max-width: 0;overflow: hidden;text-align: left;background-color: #f0f8ff;}#sk-container-id-2 div.sk-toggleable__content pre {margin: 0.2em;color: black;border-radius: 0.25em;background-color: #f0f8ff;}#sk-container-id-2 input.sk-toggleable__control:checked~div.sk-toggleable__content {max-height: 200px;max-width: 100%;overflow: auto;}#sk-container-id-2 input.sk-toggleable__control:checked~label.sk-toggleable__label-arrow:before {content: \"▾\";}#sk-container-id-2 div.sk-estimator input.sk-toggleable__control:checked~label.sk-toggleable__label {background-color: #d4ebff;}#sk-container-id-2 div.sk-label input.sk-toggleable__control:checked~label.sk-toggleable__label {background-color: #d4ebff;}#sk-container-id-2 input.sk-hidden--visually {border: 0;clip: rect(1px 1px 1px 1px);clip: rect(1px, 1px, 1px, 1px);height: 1px;margin: -1px;overflow: hidden;padding: 0;position: absolute;width: 1px;}#sk-container-id-2 div.sk-estimator {font-family: monospace;background-color: #f0f8ff;border: 1px dotted black;border-radius: 0.25em;box-sizing: border-box;margin-bottom: 0.5em;}#sk-container-id-2 div.sk-estimator:hover {background-color: #d4ebff;}#sk-container-id-2 div.sk-parallel-item::after {content: \"\";width: 100%;border-bottom: 1px solid gray;flex-grow: 1;}#sk-container-id-2 div.sk-label:hover label.sk-toggleable__label {background-color: #d4ebff;}#sk-container-id-2 div.sk-serial::before {content: \"\";position: absolute;border-left: 1px solid gray;box-sizing: border-box;top: 0;bottom: 0;left: 50%;z-index: 0;}#sk-container-id-2 div.sk-serial {display: flex;flex-direction: column;align-items: center;background-color: white;padding-right: 0.2em;padding-left: 0.2em;position: relative;}#sk-container-id-2 div.sk-item {position: relative;z-index: 1;}#sk-container-id-2 div.sk-parallel {display: flex;align-items: stretch;justify-content: center;background-color: white;position: relative;}#sk-container-id-2 div.sk-item::before, #sk-container-id-2 div.sk-parallel-item::before {content: \"\";position: absolute;border-left: 1px solid gray;box-sizing: border-box;top: 0;bottom: 0;left: 50%;z-index: -1;}#sk-container-id-2 div.sk-parallel-item {display: flex;flex-direction: column;z-index: 1;position: relative;background-color: white;}#sk-container-id-2 div.sk-parallel-item:first-child::after {align-self: flex-end;width: 50%;}#sk-container-id-2 div.sk-parallel-item:last-child::after {align-self: flex-start;width: 50%;}#sk-container-id-2 div.sk-parallel-item:only-child::after {width: 0;}#sk-container-id-2 div.sk-dashed-wrapped {border: 1px dashed gray;margin: 0 0.4em 0.5em 0.4em;box-sizing: border-box;padding-bottom: 0.4em;background-color: white;}#sk-container-id-2 div.sk-label label {font-family: monospace;font-weight: bold;display: inline-block;line-height: 1.2em;}#sk-container-id-2 div.sk-label-container {text-align: center;}#sk-container-id-2 div.sk-container {/* jupyter's `normalize.less` sets `[hidden] { display: none; }` but bootstrap.min.css set `[hidden] { display: none !important; }` so we also need the `!important` here to be able to override the default hidden behavior on the sphinx rendered scikit-learn.org. See: https://github.com/scikit-learn/scikit-learn/issues/21755 */display: inline-block !important;position: relative;}#sk-container-id-2 div.sk-text-repr-fallback {display: none;}</style><div id=\"sk-container-id-2\" class=\"sk-top-container\"><div class=\"sk-text-repr-fallback\"><pre>Pipeline(steps=[(&#x27;standardscaler&#x27;, StandardScaler()),\n",
       "                (&#x27;svc&#x27;, SVC(gamma=&#x27;auto&#x27;))])</pre><b>In a Jupyter environment, please rerun this cell to show the HTML representation or trust the notebook. <br />On GitHub, the HTML representation is unable to render, please try loading this page with nbviewer.org.</b></div><div class=\"sk-container\" hidden><div class=\"sk-item sk-dashed-wrapped\"><div class=\"sk-label-container\"><div class=\"sk-label sk-toggleable\"><input class=\"sk-toggleable__control sk-hidden--visually\" id=\"sk-estimator-id-2\" type=\"checkbox\" ><label for=\"sk-estimator-id-2\" class=\"sk-toggleable__label sk-toggleable__label-arrow\">Pipeline</label><div class=\"sk-toggleable__content\"><pre>Pipeline(steps=[(&#x27;standardscaler&#x27;, StandardScaler()),\n",
       "                (&#x27;svc&#x27;, SVC(gamma=&#x27;auto&#x27;))])</pre></div></div></div><div class=\"sk-serial\"><div class=\"sk-item\"><div class=\"sk-estimator sk-toggleable\"><input class=\"sk-toggleable__control sk-hidden--visually\" id=\"sk-estimator-id-3\" type=\"checkbox\" ><label for=\"sk-estimator-id-3\" class=\"sk-toggleable__label sk-toggleable__label-arrow\">StandardScaler</label><div class=\"sk-toggleable__content\"><pre>StandardScaler()</pre></div></div></div><div class=\"sk-item\"><div class=\"sk-estimator sk-toggleable\"><input class=\"sk-toggleable__control sk-hidden--visually\" id=\"sk-estimator-id-4\" type=\"checkbox\" ><label for=\"sk-estimator-id-4\" class=\"sk-toggleable__label sk-toggleable__label-arrow\">SVC</label><div class=\"sk-toggleable__content\"><pre>SVC(gamma=&#x27;auto&#x27;)</pre></div></div></div></div></div></div></div>"
      ],
      "text/plain": [
       "Pipeline(steps=[('standardscaler', StandardScaler()),\n",
       "                ('svc', SVC(gamma='auto'))])"
      ]
     },
     "execution_count": 21,
     "metadata": {},
     "output_type": "execute_result"
    }
   ],
   "source": [
    "svm.fit(x_train_scaled , y_train)"
   ]
  },
  {
   "cell_type": "code",
   "execution_count": 22,
   "id": "1b7bda17",
   "metadata": {
    "execution": {
     "iopub.execute_input": "2025-04-25T11:55:47.590665Z",
     "iopub.status.busy": "2025-04-25T11:55:47.589943Z",
     "iopub.status.idle": "2025-04-25T11:55:47.965698Z",
     "shell.execute_reply": "2025-04-25T11:55:47.964794Z"
    },
    "papermill": {
     "duration": 0.386694,
     "end_time": "2025-04-25T11:55:47.968010",
     "exception": false,
     "start_time": "2025-04-25T11:55:47.581316",
     "status": "completed"
    },
    "tags": []
   },
   "outputs": [
    {
     "name": "stdout",
     "output_type": "stream",
     "text": [
      "[0]\tvalidation_0-logloss:0.65030\tvalidation_0-error:0.20640\n",
      "[1]\tvalidation_0-logloss:0.60926\tvalidation_0-error:0.18782\n",
      "[2]\tvalidation_0-logloss:0.57010\tvalidation_0-error:0.13829\n",
      "[3]\tvalidation_0-logloss:0.55129\tvalidation_0-error:0.13313\n",
      "[4]\tvalidation_0-logloss:0.53742\tvalidation_0-error:0.13416\n",
      "[5]\tvalidation_0-logloss:0.51789\tvalidation_0-error:0.11971\n",
      "[6]\tvalidation_0-logloss:0.49127\tvalidation_0-error:0.12074\n",
      "[7]\tvalidation_0-logloss:0.47102\tvalidation_0-error:0.11146\n",
      "[8]\tvalidation_0-logloss:0.45169\tvalidation_0-error:0.11455\n",
      "[9]\tvalidation_0-logloss:0.43206\tvalidation_0-error:0.11662\n",
      "[10]\tvalidation_0-logloss:0.41537\tvalidation_0-error:0.11971\n",
      "[11]\tvalidation_0-logloss:0.38932\tvalidation_0-error:0.09907\n",
      "[12]\tvalidation_0-logloss:0.38066\tvalidation_0-error:0.11042\n",
      "[13]\tvalidation_0-logloss:0.37086\tvalidation_0-error:0.09494\n",
      "[14]\tvalidation_0-logloss:0.35790\tvalidation_0-error:0.08772\n",
      "[15]\tvalidation_0-logloss:0.34154\tvalidation_0-error:0.07430\n",
      "[16]\tvalidation_0-logloss:0.33558\tvalidation_0-error:0.07327\n",
      "[17]\tvalidation_0-logloss:0.32742\tvalidation_0-error:0.07224\n",
      "[18]\tvalidation_0-logloss:0.30339\tvalidation_0-error:0.06502\n",
      "[19]\tvalidation_0-logloss:0.29153\tvalidation_0-error:0.05470\n",
      "[20]\tvalidation_0-logloss:0.28187\tvalidation_0-error:0.05573\n",
      "[21]\tvalidation_0-logloss:0.27438\tvalidation_0-error:0.04334\n",
      "[22]\tvalidation_0-logloss:0.26556\tvalidation_0-error:0.04128\n",
      "[23]\tvalidation_0-logloss:0.25938\tvalidation_0-error:0.04025\n",
      "[24]\tvalidation_0-logloss:0.25672\tvalidation_0-error:0.03612\n",
      "[25]\tvalidation_0-logloss:0.24678\tvalidation_0-error:0.03096\n",
      "[26]\tvalidation_0-logloss:0.23826\tvalidation_0-error:0.03406\n",
      "[27]\tvalidation_0-logloss:0.23538\tvalidation_0-error:0.03406\n",
      "[28]\tvalidation_0-logloss:0.22152\tvalidation_0-error:0.02477\n",
      "[29]\tvalidation_0-logloss:0.21578\tvalidation_0-error:0.02374\n",
      "[30]\tvalidation_0-logloss:0.20228\tvalidation_0-error:0.02167\n",
      "[31]\tvalidation_0-logloss:0.19720\tvalidation_0-error:0.02064\n",
      "[32]\tvalidation_0-logloss:0.18530\tvalidation_0-error:0.02064\n",
      "[33]\tvalidation_0-logloss:0.18389\tvalidation_0-error:0.02167\n",
      "[34]\tvalidation_0-logloss:0.17447\tvalidation_0-error:0.01858\n",
      "[35]\tvalidation_0-logloss:0.16982\tvalidation_0-error:0.01754\n",
      "[36]\tvalidation_0-logloss:0.16699\tvalidation_0-error:0.01754\n",
      "[37]\tvalidation_0-logloss:0.15764\tvalidation_0-error:0.01445\n",
      "[38]\tvalidation_0-logloss:0.14938\tvalidation_0-error:0.01342\n",
      "[39]\tvalidation_0-logloss:0.14880\tvalidation_0-error:0.01445\n",
      "[40]\tvalidation_0-logloss:0.14478\tvalidation_0-error:0.01548\n",
      "[41]\tvalidation_0-logloss:0.14365\tvalidation_0-error:0.01548\n",
      "[42]\tvalidation_0-logloss:0.14223\tvalidation_0-error:0.01548\n",
      "[43]\tvalidation_0-logloss:0.14072\tvalidation_0-error:0.01445\n",
      "[44]\tvalidation_0-logloss:0.13417\tvalidation_0-error:0.01342\n",
      "[45]\tvalidation_0-logloss:0.13058\tvalidation_0-error:0.01135\n",
      "[46]\tvalidation_0-logloss:0.13013\tvalidation_0-error:0.01135\n",
      "[47]\tvalidation_0-logloss:0.12822\tvalidation_0-error:0.01135\n",
      "[48]\tvalidation_0-logloss:0.12547\tvalidation_0-error:0.01238\n",
      "[49]\tvalidation_0-logloss:0.11877\tvalidation_0-error:0.01238\n",
      "[50]\tvalidation_0-logloss:0.11808\tvalidation_0-error:0.01238\n",
      "[51]\tvalidation_0-logloss:0.11229\tvalidation_0-error:0.01032\n",
      "[52]\tvalidation_0-logloss:0.10980\tvalidation_0-error:0.01032\n",
      "[53]\tvalidation_0-logloss:0.10468\tvalidation_0-error:0.01032\n",
      "[54]\tvalidation_0-logloss:0.10269\tvalidation_0-error:0.01032\n",
      "[55]\tvalidation_0-logloss:0.09790\tvalidation_0-error:0.01032\n",
      "[56]\tvalidation_0-logloss:0.09351\tvalidation_0-error:0.01032\n",
      "[57]\tvalidation_0-logloss:0.08959\tvalidation_0-error:0.01032\n",
      "[58]\tvalidation_0-logloss:0.08583\tvalidation_0-error:0.01032\n",
      "[59]\tvalidation_0-logloss:0.08487\tvalidation_0-error:0.00929\n",
      "[60]\tvalidation_0-logloss:0.08314\tvalidation_0-error:0.01032\n",
      "[61]\tvalidation_0-logloss:0.08242\tvalidation_0-error:0.01032\n",
      "[62]\tvalidation_0-logloss:0.08112\tvalidation_0-error:0.01032\n",
      "[63]\tvalidation_0-logloss:0.07788\tvalidation_0-error:0.01032\n",
      "[64]\tvalidation_0-logloss:0.07774\tvalidation_0-error:0.00929\n",
      "[65]\tvalidation_0-logloss:0.07463\tvalidation_0-error:0.00929\n",
      "[66]\tvalidation_0-logloss:0.07338\tvalidation_0-error:0.00826\n",
      "[67]\tvalidation_0-logloss:0.07065\tvalidation_0-error:0.00826\n",
      "[68]\tvalidation_0-logloss:0.06821\tvalidation_0-error:0.00826\n",
      "[69]\tvalidation_0-logloss:0.06560\tvalidation_0-error:0.00826\n",
      "[70]\tvalidation_0-logloss:0.06549\tvalidation_0-error:0.00826\n",
      "[71]\tvalidation_0-logloss:0.06504\tvalidation_0-error:0.00826\n",
      "[72]\tvalidation_0-logloss:0.06272\tvalidation_0-error:0.00826\n",
      "[73]\tvalidation_0-logloss:0.06062\tvalidation_0-error:0.00826\n",
      "[74]\tvalidation_0-logloss:0.05939\tvalidation_0-error:0.00722\n",
      "[75]\tvalidation_0-logloss:0.05831\tvalidation_0-error:0.00826\n",
      "[76]\tvalidation_0-logloss:0.05625\tvalidation_0-error:0.00826\n",
      "[77]\tvalidation_0-logloss:0.05546\tvalidation_0-error:0.00826\n",
      "[78]\tvalidation_0-logloss:0.05440\tvalidation_0-error:0.00722\n",
      "[79]\tvalidation_0-logloss:0.05260\tvalidation_0-error:0.00722\n",
      "[80]\tvalidation_0-logloss:0.05104\tvalidation_0-error:0.00826\n",
      "[81]\tvalidation_0-logloss:0.05038\tvalidation_0-error:0.00826\n",
      "[82]\tvalidation_0-logloss:0.04979\tvalidation_0-error:0.00722\n",
      "[83]\tvalidation_0-logloss:0.04846\tvalidation_0-error:0.00826\n",
      "[84]\tvalidation_0-logloss:0.04844\tvalidation_0-error:0.00826\n",
      "[85]\tvalidation_0-logloss:0.04769\tvalidation_0-error:0.00826\n",
      "[86]\tvalidation_0-logloss:0.04697\tvalidation_0-error:0.00722\n",
      "[87]\tvalidation_0-logloss:0.04697\tvalidation_0-error:0.00722\n",
      "[88]\tvalidation_0-logloss:0.04563\tvalidation_0-error:0.00722\n",
      "[89]\tvalidation_0-logloss:0.04418\tvalidation_0-error:0.00722\n",
      "[90]\tvalidation_0-logloss:0.04352\tvalidation_0-error:0.00722\n",
      "[91]\tvalidation_0-logloss:0.04310\tvalidation_0-error:0.00722\n",
      "[92]\tvalidation_0-logloss:0.04253\tvalidation_0-error:0.00722\n",
      "[93]\tvalidation_0-logloss:0.04220\tvalidation_0-error:0.00826\n",
      "[94]\tvalidation_0-logloss:0.04214\tvalidation_0-error:0.00722\n",
      "[95]\tvalidation_0-logloss:0.04197\tvalidation_0-error:0.00722\n",
      "[96]\tvalidation_0-logloss:0.04190\tvalidation_0-error:0.00722\n",
      "[97]\tvalidation_0-logloss:0.04142\tvalidation_0-error:0.00722\n",
      "[98]\tvalidation_0-logloss:0.04130\tvalidation_0-error:0.00722\n",
      "[99]\tvalidation_0-logloss:0.04024\tvalidation_0-error:0.00722\n"
     ]
    }
   ],
   "source": [
    "\n",
    "xgb.fit(\n",
    "    X_train, y_train,\n",
    "    eval_set=[(X_test, y_test)],\n",
    "    eval_metric=['logloss', 'error'],\n",
    "    verbose=True\n",
    ")\n",
    "\n",
    "results = xgb.evals_result()\n"
   ]
  },
  {
   "cell_type": "code",
   "execution_count": 23,
   "id": "36f08933",
   "metadata": {
    "execution": {
     "iopub.execute_input": "2025-04-25T11:55:48.002251Z",
     "iopub.status.busy": "2025-04-25T11:55:48.001888Z",
     "iopub.status.idle": "2025-04-25T11:55:48.614010Z",
     "shell.execute_reply": "2025-04-25T11:55:48.613114Z"
    },
    "papermill": {
     "duration": 0.63013,
     "end_time": "2025-04-25T11:55:48.615927",
     "exception": false,
     "start_time": "2025-04-25T11:55:47.985797",
     "status": "completed"
    },
    "tags": []
   },
   "outputs": [
    {
     "data": {
      "image/png": "[encoded data removed]",
      "text/plain": [
       "<Figure size 1200x500 with 2 Axes>"
      ]
     },
     "metadata": {},
     "output_type": "display_data"
    }
   ],
   "source": [
    "import matplotlib.pyplot as plt\n",
    "\n",
    "epochs = len(results['validation_0']['logloss'])\n",
    "x_axis = range(epochs)\n",
    "\n",
    "plt.figure(figsize=(12, 5))\n",
    "\n",
    "# Log Loss\n",
    "plt.subplot(1, 2, 1)\n",
    "plt.plot(x_axis, results['validation_0']['logloss'], label='Log Loss')\n",
    "plt.title('Log Loss over Epochs')\n",
    "plt.xlabel('Epoch')\n",
    "plt.ylabel('Log Loss')\n",
    "plt.legend()\n",
    "\n",
    "# Error (1 - Accuracy)\n",
    "plt.subplot(1, 2, 2)\n",
    "plt.plot(x_axis, results['validation_0']['error'], label='Error', color='red')\n",
    "plt.title('Error over Epochs')\n",
    "plt.xlabel('Epoch')\n",
    "plt.ylabel('Error')\n",
    "plt.legend()\n",
    "\n",
    "plt.tight_layout()\n",
    "plt.show()\n"
   ]
  },
  {
   "cell_type": "markdown",
   "id": "843d489b",
   "metadata": {
    "papermill": {
     "duration": 0.012919,
     "end_time": "2025-04-25T11:55:48.642633",
     "exception": false,
     "start_time": "2025-04-25T11:55:48.629714",
     "status": "completed"
    },
    "tags": []
   },
   "source": [
    "# Evaluation"
   ]
  },
  {
   "cell_type": "code",
   "execution_count": 24,
   "id": "ffa1c19e",
   "metadata": {
    "execution": {
     "iopub.execute_input": "2025-04-25T11:55:48.670525Z",
     "iopub.status.busy": "2025-04-25T11:55:48.669840Z",
     "iopub.status.idle": "2025-04-25T11:55:48.678551Z",
     "shell.execute_reply": "2025-04-25T11:55:48.677600Z"
    },
    "papermill": {
     "duration": 0.0246,
     "end_time": "2025-04-25T11:55:48.680257",
     "exception": false,
     "start_time": "2025-04-25T11:55:48.655657",
     "status": "completed"
    },
    "tags": []
   },
   "outputs": [
    {
     "data": {
      "text/plain": [
       "0.6842105263157895"
      ]
     },
     "execution_count": 24,
     "metadata": {},
     "output_type": "execute_result"
    }
   ],
   "source": [
    "log_r.score(x_test_scaled , y_test )"
   ]
  },
  {
   "cell_type": "code",
   "execution_count": 25,
   "id": "77b37181",
   "metadata": {
    "execution": {
     "iopub.execute_input": "2025-04-25T11:55:48.709452Z",
     "iopub.status.busy": "2025-04-25T11:55:48.708734Z",
     "iopub.status.idle": "2025-04-25T11:55:48.856138Z",
     "shell.execute_reply": "2025-04-25T11:55:48.855270Z"
    },
    "papermill": {
     "duration": 0.163511,
     "end_time": "2025-04-25T11:55:48.857693",
     "exception": false,
     "start_time": "2025-04-25T11:55:48.694182",
     "status": "completed"
    },
    "tags": []
   },
   "outputs": [
    {
     "data": {
      "text/plain": [
       "0.7079463364293086"
      ]
     },
     "execution_count": 25,
     "metadata": {},
     "output_type": "execute_result"
    }
   ],
   "source": [
    "svm.score(x_test_scaled , y_test )"
   ]
  },
  {
   "cell_type": "code",
   "execution_count": 26,
   "id": "d48312e8",
   "metadata": {
    "execution": {
     "iopub.execute_input": "2025-04-25T11:55:48.886823Z",
     "iopub.status.busy": "2025-04-25T11:55:48.886493Z",
     "iopub.status.idle": "2025-04-25T11:55:48.899045Z",
     "shell.execute_reply": "2025-04-25T11:55:48.898297Z"
    },
    "papermill": {
     "duration": 0.029436,
     "end_time": "2025-04-25T11:55:48.900819",
     "exception": false,
     "start_time": "2025-04-25T11:55:48.871383",
     "status": "completed"
    },
    "tags": []
   },
   "outputs": [
    {
     "data": {
      "text/plain": [
       "0.9927760577915377"
      ]
     },
     "execution_count": 26,
     "metadata": {},
     "output_type": "execute_result"
    }
   ],
   "source": [
    "xgb.score(X_test , y_test )"
   ]
  },
  {
   "cell_type": "code",
   "execution_count": 27,
   "id": "880c712e",
   "metadata": {
    "execution": {
     "iopub.execute_input": "2025-04-25T11:55:48.932596Z",
     "iopub.status.busy": "2025-04-25T11:55:48.932278Z",
     "iopub.status.idle": "2025-04-25T11:55:48.937161Z",
     "shell.execute_reply": "2025-04-25T11:55:48.936049Z"
    },
    "papermill": {
     "duration": 0.021141,
     "end_time": "2025-04-25T11:55:48.938690",
     "exception": false,
     "start_time": "2025-04-25T11:55:48.917549",
     "status": "completed"
    },
    "tags": []
   },
   "outputs": [],
   "source": [
    "from sklearn.metrics import confusion_matrix, ConfusionMatrixDisplay"
   ]
  },
  {
   "cell_type": "markdown",
   "id": "bc054bdc",
   "metadata": {
    "papermill": {
     "duration": 0.013466,
     "end_time": "2025-04-25T11:55:48.965676",
     "exception": false,
     "start_time": "2025-04-25T11:55:48.952210",
     "status": "completed"
    },
    "tags": []
   },
   "source": [
    "## Confusion matrix"
   ]
  },
  {
   "cell_type": "code",
   "execution_count": 28,
   "id": "1167a2ea",
   "metadata": {
    "execution": {
     "iopub.execute_input": "2025-04-25T11:55:48.994809Z",
     "iopub.status.busy": "2025-04-25T11:55:48.994009Z",
     "iopub.status.idle": "2025-04-25T11:55:49.209046Z",
     "shell.execute_reply": "2025-04-25T11:55:49.207863Z"
    },
    "papermill": {
     "duration": 0.231331,
     "end_time": "2025-04-25T11:55:49.210757",
     "exception": false,
     "start_time": "2025-04-25T11:55:48.979426",
     "status": "completed"
    },
    "tags": []
   },
   "outputs": [
    {
     "data": {
      "text/plain": [
       "<sklearn.metrics._plot.confusion_matrix.ConfusionMatrixDisplay at 0x7a131a9f5290>"
      ]
     },
     "execution_count": 28,
     "metadata": {},
     "output_type": "execute_result"
    },
    {
     "data": {
      "image/png": "[encoded data removed]",
      "text/plain": [
       "<Figure size 640x480 with 2 Axes>"
      ]
     },
     "metadata": {},
     "output_type": "display_data"
    }
   ],
   "source": [
    "y_pred_probs = xgb.predict(X_test)\n",
    "\n",
    "y_pred = (y_pred_probs > 0.5).astype(int)  \n",
    "\n",
    "cm = confusion_matrix(y_test, y_pred)\n",
    "\n",
    "disp = ConfusionMatrixDisplay(confusion_matrix=cm)\n",
    "disp.plot()"
   ]
  },
  {
   "cell_type": "markdown",
   "id": "44c85515",
   "metadata": {
    "papermill": {
     "duration": 0.014284,
     "end_time": "2025-04-25T11:55:49.241711",
     "exception": false,
     "start_time": "2025-04-25T11:55:49.227427",
     "status": "completed"
    },
    "tags": []
   },
   "source": [
    "## F2_score"
   ]
  },
  {
   "cell_type": "code",
   "execution_count": 29,
   "id": "6c878d9c",
   "metadata": {
    "execution": {
     "iopub.execute_input": "2025-04-25T11:55:49.271771Z",
     "iopub.status.busy": "2025-04-25T11:55:49.271470Z",
     "iopub.status.idle": "2025-04-25T11:55:49.280890Z",
     "shell.execute_reply": "2025-04-25T11:55:49.279731Z"
    },
    "papermill": {
     "duration": 0.026602,
     "end_time": "2025-04-25T11:55:49.282638",
     "exception": false,
     "start_time": "2025-04-25T11:55:49.256036",
     "status": "completed"
    },
    "tags": []
   },
   "outputs": [
    {
     "name": "stdout",
     "output_type": "stream",
     "text": [
      "F2 Score: 0.9905457670820799\n"
     ]
    }
   ],
   "source": [
    "from sklearn.metrics import fbeta_score\n",
    "\n",
    "f2 = fbeta_score(y_test, y_pred, beta=2)\n",
    "print(\"F2 Score:\", f2)"
   ]
  },
  {
   "cell_type": "markdown",
   "id": "5ffc0906",
   "metadata": {
    "papermill": {
     "duration": 0.014024,
     "end_time": "2025-04-25T11:55:49.311806",
     "exception": false,
     "start_time": "2025-04-25T11:55:49.297782",
     "status": "completed"
    },
    "tags": []
   },
   "source": [
    "## ROC Curve"
   ]
  },
  {
   "cell_type": "code",
   "execution_count": 30,
   "id": "e189118a",
   "metadata": {
    "execution": {
     "iopub.execute_input": "2025-04-25T11:55:49.342267Z",
     "iopub.status.busy": "2025-04-25T11:55:49.341884Z",
     "iopub.status.idle": "2025-04-25T11:55:49.532953Z",
     "shell.execute_reply": "2025-04-25T11:55:49.532039Z"
    },
    "papermill": {
     "duration": 0.207918,
     "end_time": "2025-04-25T11:55:49.534448",
     "exception": false,
     "start_time": "2025-04-25T11:55:49.326530",
     "status": "completed"
    },
    "tags": []
   },
   "outputs": [
    {
     "data": {
      "image/png": "[encoded data removed]",
      "text/plain": [
       "<Figure size 600x600 with 1 Axes>"
      ]
     },
     "metadata": {},
     "output_type": "display_data"
    }
   ],
   "source": [
    "from sklearn.metrics import roc_curve, auc\n",
    "import matplotlib.pyplot as plt\n",
    "\n",
    "# Get FPR, TPR for different thresholds\n",
    "fpr, tpr, thresholds = roc_curve(y_test, y_pred_probs)\n",
    "\n",
    "# Calculate AUC\n",
    "roc_auc = auc(fpr, tpr)\n",
    "\n",
    "# Plot ROC\n",
    "plt.figure(figsize=(6,6))\n",
    "plt.plot(fpr, tpr, color='darkorange', lw=2, label='ROC Curve (AUC = %0.2f)' % roc_auc)\n",
    "plt.plot([0, 1], [0, 1], color='navy', lw=2, linestyle='--')  # Diagonal\n",
    "plt.xlabel('False Positive Rate')\n",
    "plt.ylabel('True Positive Rate')\n",
    "plt.title('Receiver Operating Characteristic')\n",
    "plt.legend(loc=\"lower right\")\n",
    "plt.grid()\n",
    "plt.show()"
   ]
  },
  {
   "cell_type": "code",
   "execution_count": 31,
   "id": "30efbaac",
   "metadata": {
    "execution": {
     "iopub.execute_input": "2025-04-25T11:55:49.565844Z",
     "iopub.status.busy": "2025-04-25T11:55:49.565528Z",
     "iopub.status.idle": "2025-04-25T11:55:49.574932Z",
     "shell.execute_reply": "2025-04-25T11:55:49.574228Z"
    },
    "papermill": {
     "duration": 0.027131,
     "end_time": "2025-04-25T11:55:49.576829",
     "exception": false,
     "start_time": "2025-04-25T11:55:49.549698",
     "status": "completed"
    },
    "tags": []
   },
   "outputs": [],
   "source": [
    "xgb.save_model('xgb-99%.json')"
   ]
  },
  {
   "cell_type": "code",
   "execution_count": 32,
   "id": "dd98ab65",
   "metadata": {
    "execution": {
     "iopub.execute_input": "2025-04-25T11:55:49.610611Z",
     "iopub.status.busy": "2025-04-25T11:55:49.610270Z",
     "iopub.status.idle": "2025-04-25T11:55:49.614924Z",
     "shell.execute_reply": "2025-04-25T11:55:49.614169Z"
    },
    "papermill": {
     "duration": 0.022008,
     "end_time": "2025-04-25T11:55:49.616278",
     "exception": false,
     "start_time": "2025-04-25T11:55:49.594270",
     "status": "completed"
    },
    "tags": []
   },
   "outputs": [],
   "source": [
    "xgb.save_model('xgb-99%.pkl')"
   ]
  },
  {
   "cell_type": "code",
   "execution_count": 33,
   "id": "e00a9ae0",
   "metadata": {
    "execution": {
     "iopub.execute_input": "2025-04-25T11:55:49.648206Z",
     "iopub.status.busy": "2025-04-25T11:55:49.647227Z",
     "iopub.status.idle": "2025-04-25T11:55:49.652259Z",
     "shell.execute_reply": "2025-04-25T11:55:49.651361Z"
    },
    "papermill": {
     "duration": 0.022401,
     "end_time": "2025-04-25T11:55:49.653696",
     "exception": false,
     "start_time": "2025-04-25T11:55:49.631295",
     "status": "completed"
    },
    "tags": []
   },
   "outputs": [],
   "source": [
    "xgb.save_model(\"xgb_confusion_detector.model\")"
   ]
  },
  {
   "cell_type": "markdown",
   "id": "545d01a8",
   "metadata": {
    "papermill": {
     "duration": 0.01437,
     "end_time": "2025-04-25T11:55:49.682806",
     "exception": false,
     "start_time": "2025-04-25T11:55:49.668436",
     "status": "completed"
    },
    "tags": []
   },
   "source": [
    "#### playground"
   ]
  },
  {
   "cell_type": "code",
   "execution_count": 34,
   "id": "f6e13411",
   "metadata": {
    "execution": {
     "iopub.execute_input": "2025-04-25T11:55:49.713296Z",
     "iopub.status.busy": "2025-04-25T11:55:49.712962Z",
     "iopub.status.idle": "2025-04-25T11:55:53.121376Z",
     "shell.execute_reply": "2025-04-25T11:55:53.119839Z"
    },
    "papermill": {
     "duration": 3.425885,
     "end_time": "2025-04-25T11:55:53.123197",
     "exception": false,
     "start_time": "2025-04-25T11:55:49.697312",
     "status": "completed"
    },
    "tags": []
   },
   "outputs": [
    {
     "name": "stdout",
     "output_type": "stream",
     "text": [
      "Note: you may need to restart the kernel to use updated packages.\n"
     ]
    }
   ],
   "source": [
    "pip freeze > requirements.txt\n"
   ]
  },
  {
   "cell_type": "code",
   "execution_count": 35,
   "id": "9ae1cb26",
   "metadata": {
    "execution": {
     "iopub.execute_input": "2025-04-25T11:55:53.156707Z",
     "iopub.status.busy": "2025-04-25T11:55:53.155715Z",
     "iopub.status.idle": "2025-04-25T11:55:53.289365Z",
     "shell.execute_reply": "2025-04-25T11:55:53.288160Z"
    },
    "papermill": {
     "duration": 0.152816,
     "end_time": "2025-04-25T11:55:53.291192",
     "exception": false,
     "start_time": "2025-04-25T11:55:53.138376",
     "status": "completed"
    },
    "tags": []
   },
   "outputs": [
    {
     "name": "stdout",
     "output_type": "stream",
     "text": [
      "Python 3.11.11\r\n"
     ]
    }
   ],
   "source": [
    "!python --version\n"
   ]
  },
  {
   "cell_type": "code",
   "execution_count": null,
   "id": "f5548d14",
   "metadata": {
    "papermill": {
     "duration": 0.014836,
     "end_time": "2025-04-25T11:55:53.321241",
     "exception": false,
     "start_time": "2025-04-25T11:55:53.306405",
     "status": "completed"
    },
    "tags": []
   },
   "outputs": [],
   "source": []
  }
 ],
 "metadata": {
  "kaggle": {
   "accelerator": "none",
   "dataSources": [
    {
     "datasetId": 7190015,
     "sourceId": 11472726,
     "sourceType": "datasetVersion"
    },
    {
     "datasetId": 7225569,
     "sourceId": 11520990,
     "sourceType": "datasetVersion"
    }
   ],
   "dockerImageVersionId": 31012,
   "isGpuEnabled": false,
   "isInternetEnabled": true,
   "language": "python",
   "sourceType": "notebook"
  },
  "kernelspec": {
   "display_name": "Python 3",
   "language": "python",
   "name": "python3"
  },
  "language_info": {
   "codemirror_mode": {
    "name": "ipython",
    "version": 3
   },
   "file_extension": ".py",
   "mimetype": "text/x-python",
   "name": "python",
   "nbconvert_exporter": "python",
   "pygments_lexer": "ipython3",
   "version": "3.11.11"
  },
  "papermill": {
   "default_parameters": {},
   "duration": 20.213557,
   "end_time": "2025-04-25T11:55:54.157925",
   "environment_variables": {},
   "exception": null,
   "input_path": "__notebook__.ipynb",
   "output_path": "__notebook__.ipynb",
   "parameters": {},
   "start_time": "2025-04-25T11:55:33.944368",
   "version": "2.6.0"
  }
 },
 "nbformat": 4,
 "nbformat_minor": 5
}
